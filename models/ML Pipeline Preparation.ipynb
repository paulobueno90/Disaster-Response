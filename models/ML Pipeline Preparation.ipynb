{
 "cells": [
  {
   "cell_type": "markdown",
   "metadata": {},
   "source": [
    "# ML Pipeline Preparation\n",
    "Follow the instructions below to help you create your ML pipeline.\n",
    "### 1. Import libraries and load data from database.\n",
    "- Import Python libraries\n",
    "- Load dataset from database with [`read_sql_table`](https://pandas.pydata.org/pandas-docs/stable/generated/pandas.read_sql_table.html)\n",
    "- Define feature and target variables X and Y"
   ]
  },
  {
   "cell_type": "code",
   "execution_count": 1,
   "metadata": {},
   "outputs": [
    {
     "name": "stdout",
     "output_type": "stream",
     "text": [
      "[nltk_data] Downloading package punkt to /root/nltk_data...\n",
      "[nltk_data]   Unzipping tokenizers/punkt.zip.\n",
      "[nltk_data] Downloading package stopwords to /root/nltk_data...\n",
      "[nltk_data]   Unzipping corpora/stopwords.zip.\n",
      "[nltk_data] Downloading package wordnet to /root/nltk_data...\n",
      "[nltk_data]   Unzipping corpora/wordnet.zip.\n",
      "[nltk_data] Downloading package averaged_perceptron_tagger to\n",
      "[nltk_data]     /root/nltk_data...\n",
      "[nltk_data]   Unzipping taggers/averaged_perceptron_tagger.zip.\n",
      "Collecting textaugment\n",
      "  Downloading https://files.pythonhosted.org/packages/2c/63/9960414280dba3d9eba332502231d69fdc8ba664a4bd3d46842ba8cf0ef2/textaugment-1.3.4-py3-none-any.whl\n",
      "Requirement already satisfied: numpy in /opt/conda/lib/python3.6/site-packages (from textaugment) (1.12.1)\n",
      "Requirement already satisfied: nltk in /opt/conda/lib/python3.6/site-packages (from textaugment) (3.2.5)\n",
      "Collecting googletrans (from textaugment)\n",
      "  Downloading https://files.pythonhosted.org/packages/71/3a/3b19effdd4c03958b90f40fe01c93de6d5280e03843cc5adf6956bfc9512/googletrans-3.0.0.tar.gz\n",
      "Collecting textblob (from textaugment)\n",
      "\u001b[?25l  Downloading https://files.pythonhosted.org/packages/60/f0/1d9bfcc8ee6b83472ec571406bd0dd51c0e6330ff1a51b2d29861d389e85/textblob-0.15.3-py2.py3-none-any.whl (636kB)\n",
      "\u001b[K    100% |████████████████████████████████| 645kB 7.1MB/s ta 0:00:011\n",
      "\u001b[?25hRequirement already satisfied: gensim in /opt/conda/lib/python3.6/site-packages (from textaugment) (3.4.0)\n",
      "Requirement already satisfied: six in /opt/conda/lib/python3.6/site-packages (from nltk->textaugment) (1.11.0)\n",
      "Collecting httpx==0.13.3 (from googletrans->textaugment)\n",
      "\u001b[?25l  Downloading https://files.pythonhosted.org/packages/54/b4/698b284c6aed4d7c2b4fe3ba5df1fcf6093612423797e76fbb24890dd22f/httpx-0.13.3-py3-none-any.whl (55kB)\n",
      "\u001b[K    100% |████████████████████████████████| 61kB 5.7MB/s ta 0:00:01\n",
      "\u001b[?25hRequirement already satisfied: scipy>=0.18.1 in /opt/conda/lib/python3.6/site-packages (from gensim->textaugment) (1.2.1)\n",
      "Requirement already satisfied: smart_open>=1.2.1 in /opt/conda/lib/python3.6/site-packages (from gensim->textaugment) (1.5.6)\n",
      "Collecting httpcore==0.9.* (from httpx==0.13.3->googletrans->textaugment)\n",
      "\u001b[?25l  Downloading https://files.pythonhosted.org/packages/dd/d5/e4ff9318693ac6101a2095e580908b591838c6f33df8d3ee8dd953ba96a8/httpcore-0.9.1-py3-none-any.whl (42kB)\n",
      "\u001b[K    100% |████████████████████████████████| 51kB 3.2MB/s eta 0:00:01\n",
      "\u001b[?25hCollecting hstspreload (from httpx==0.13.3->googletrans->textaugment)\n",
      "\u001b[?25l  Downloading https://files.pythonhosted.org/packages/dd/50/606213e12fb49c5eb667df0936223dcaf461f94e215ea60244b2b1e9b039/hstspreload-2020.12.22-py3-none-any.whl (994kB)\n",
      "\u001b[K    100% |████████████████████████████████| 1.0MB 6.5MB/s eta 0:00:01\n",
      "\u001b[?25hCollecting sniffio (from httpx==0.13.3->googletrans->textaugment)\n",
      "  Downloading https://files.pythonhosted.org/packages/52/b0/7b2e028b63d092804b6794595871f936aafa5e9322dcaaad50ebf67445b3/sniffio-1.2.0-py3-none-any.whl\n",
      "Requirement already satisfied: idna==2.* in /opt/conda/lib/python3.6/site-packages (from httpx==0.13.3->googletrans->textaugment) (2.6)\n",
      "Requirement already satisfied: certifi in /opt/conda/lib/python3.6/site-packages (from httpx==0.13.3->googletrans->textaugment) (2019.11.28)\n",
      "Requirement already satisfied: chardet==3.* in /opt/conda/lib/python3.6/site-packages (from httpx==0.13.3->googletrans->textaugment) (3.0.4)\n",
      "Collecting rfc3986<2,>=1.3 (from httpx==0.13.3->googletrans->textaugment)\n",
      "  Downloading https://files.pythonhosted.org/packages/78/be/7b8b99fd74ff5684225f50dd0e865393d2265656ef3b4ba9eaaaffe622b8/rfc3986-1.4.0-py2.py3-none-any.whl\n",
      "Requirement already satisfied: boto>=2.32 in /opt/conda/lib/python3.6/site-packages (from smart_open>=1.2.1->gensim->textaugment) (2.48.0)\n",
      "Requirement already satisfied: bz2file in /opt/conda/lib/python3.6/site-packages (from smart_open>=1.2.1->gensim->textaugment) (0.98)\n",
      "Requirement already satisfied: requests in /opt/conda/lib/python3.6/site-packages (from smart_open>=1.2.1->gensim->textaugment) (2.18.4)\n",
      "Requirement already satisfied: boto3 in /opt/conda/lib/python3.6/site-packages (from smart_open>=1.2.1->gensim->textaugment) (1.9.7)\n",
      "Collecting h2==3.* (from httpcore==0.9.*->httpx==0.13.3->googletrans->textaugment)\n",
      "\u001b[?25l  Downloading https://files.pythonhosted.org/packages/25/de/da019bcc539eeab02f6d45836f23858ac467f584bfec7a526ef200242afe/h2-3.2.0-py2.py3-none-any.whl (65kB)\n",
      "\u001b[K    100% |████████████████████████████████| 71kB 5.2MB/s ta 0:00:011    78% |█████████████████████████▏      | 51kB 11.7MB/s eta 0:00:01\n",
      "\u001b[?25hCollecting h11<0.10,>=0.8 (from httpcore==0.9.*->httpx==0.13.3->googletrans->textaugment)\n",
      "\u001b[?25l  Downloading https://files.pythonhosted.org/packages/5a/fd/3dad730b0f95e78aeeb742f96fa7bbecbdd56a58e405d3da440d5bfb90c6/h11-0.9.0-py2.py3-none-any.whl (53kB)\n",
      "\u001b[K    100% |████████████████████████████████| 61kB 7.8MB/s ta 0:00:011\n",
      "\u001b[?25hCollecting contextvars>=2.1; python_version < \"3.7\" (from sniffio->httpx==0.13.3->googletrans->textaugment)\n",
      "  Downloading https://files.pythonhosted.org/packages/83/96/55b82d9f13763be9d672622e1b8106c85acb83edd7cc2fa5bc67cd9877e9/contextvars-2.4.tar.gz\n",
      "Requirement already satisfied: urllib3<1.23,>=1.21.1 in /opt/conda/lib/python3.6/site-packages (from requests->smart_open>=1.2.1->gensim->textaugment) (1.22)\n",
      "Requirement already satisfied: botocore<1.13.0,>=1.12.7 in /opt/conda/lib/python3.6/site-packages (from boto3->smart_open>=1.2.1->gensim->textaugment) (1.12.7)\n",
      "Requirement already satisfied: jmespath<1.0.0,>=0.7.1 in /opt/conda/lib/python3.6/site-packages (from boto3->smart_open>=1.2.1->gensim->textaugment) (0.9.3)\n",
      "Requirement already satisfied: s3transfer<0.2.0,>=0.1.10 in /opt/conda/lib/python3.6/site-packages (from boto3->smart_open>=1.2.1->gensim->textaugment) (0.1.13)\n",
      "Collecting hpack<4,>=3.0 (from h2==3.*->httpcore==0.9.*->httpx==0.13.3->googletrans->textaugment)\n",
      "  Downloading https://files.pythonhosted.org/packages/8a/cc/e53517f4a1e13f74776ca93271caef378dadec14d71c61c949d759d3db69/hpack-3.0.0-py2.py3-none-any.whl\n",
      "Collecting hyperframe<6,>=5.2.0 (from h2==3.*->httpcore==0.9.*->httpx==0.13.3->googletrans->textaugment)\n",
      "  Downloading https://files.pythonhosted.org/packages/19/0c/bf88182bcb5dce3094e2f3e4fe20db28a9928cb7bd5b08024030e4b140db/hyperframe-5.2.0-py2.py3-none-any.whl\n",
      "Collecting immutables>=0.9 (from contextvars>=2.1; python_version < \"3.7\"->sniffio->httpx==0.13.3->googletrans->textaugment)\n",
      "\u001b[?25l  Downloading https://files.pythonhosted.org/packages/99/e0/ea6fd4697120327d26773b5a84853f897a68e33d3f9376b00a8ff96e4f63/immutables-0.14-cp36-cp36m-manylinux1_x86_64.whl (98kB)\n",
      "\u001b[K    100% |████████████████████████████████| 102kB 8.4MB/s ta 0:00:01\n",
      "\u001b[?25hRequirement already satisfied: docutils>=0.10 in /opt/conda/lib/python3.6/site-packages (from botocore<1.13.0,>=1.12.7->boto3->smart_open>=1.2.1->gensim->textaugment) (0.14)\n",
      "Requirement already satisfied: python-dateutil<3.0.0,>=2.1 in /opt/conda/lib/python3.6/site-packages (from botocore<1.13.0,>=1.12.7->boto3->smart_open>=1.2.1->gensim->textaugment) (2.6.1)\n",
      "Building wheels for collected packages: googletrans, contextvars\n",
      "  Running setup.py bdist_wheel for googletrans ... \u001b[?25ldone\n",
      "\u001b[?25h  Stored in directory: /root/.cache/pip/wheels/28/1a/a7/eaf4d7a3417a0c65796c547cff4deb6d79c7d14c2abd29273e\n",
      "  Running setup.py bdist_wheel for contextvars ... \u001b[?25ldone\n",
      "\u001b[?25h  Stored in directory: /root/.cache/pip/wheels/a5/7d/68/1ebae2668bda2228686e3c1cf16f2c2384cea6e9334ad5f6de\n",
      "Successfully built googletrans contextvars\n",
      "Installing collected packages: immutables, contextvars, sniffio, hpack, hyperframe, h2, h11, httpcore, hstspreload, rfc3986, httpx, googletrans, textblob, textaugment\n",
      "Successfully installed contextvars-2.4 googletrans-3.0.0 h11-0.9.0 h2-3.2.0 hpack-3.0.0 hstspreload-2020.12.22 httpcore-0.9.1 httpx-0.13.3 hyperframe-5.2.0 immutables-0.14 rfc3986-1.4.0 sniffio-1.2.0 textaugment-1.3.4 textblob-0.15.3\n"
     ]
    }
   ],
   "source": [
    "# import libraries\n",
    "import pandas as pd\n",
    "import numpy as np\n",
    "import re\n",
    "import nltk\n",
    "from random import randint\n",
    "\n",
    "from sqlalchemy import create_engine\n",
    "\n",
    "from sklearn.feature_extraction.text import TfidfVectorizer\n",
    "from sklearn.multioutput import MultiOutputClassifier\n",
    "from sklearn.feature_extraction.text import CountVectorizer, TfidfTransformer\n",
    "from sklearn.ensemble import RandomForestClassifier, GradientBoostingClassifier,AdaBoostClassifier\n",
    "from sklearn.pipeline import Pipeline, FeatureUnion\n",
    "from sklearn.metrics import classification_report\n",
    "from sklearn.model_selection import train_test_split, GridSearchCV\n",
    "from sklearn.metrics import accuracy_score, precision_score, recall_score, f1_score, make_scorer\n",
    "\n",
    "from nltk.corpus import stopwords\n",
    "from nltk.stem.wordnet import WordNetLemmatizer\n",
    "from nltk.tokenize import word_tokenize\n",
    "nltk.download('punkt')\n",
    "nltk.download('stopwords')\n",
    "nltk.download('wordnet')\n",
    "nltk.download('averaged_perceptron_tagger')\n",
    "try:\n",
    "    from textaugment import Wordnet\n",
    "except:\n",
    "    !pip install textaugment\n",
    "    from textaugment import Wordnet\n",
    "\n",
    "import warnings\n",
    "\n",
    "warnings.simplefilter('ignore')\n"
   ]
  },
  {
   "cell_type": "code",
   "execution_count": 21,
   "metadata": {},
   "outputs": [],
   "source": [
    "def show_model_dif(y_test, y_pred1, y_pred2, y_test2='NA'):\n",
    "    \n",
    "    check = True\n",
    "    try:\n",
    "        if y_test2 == \"NA\":\n",
    "            pass\n",
    "    except:\n",
    "        check = False\n",
    "    \n",
    "    if check:\n",
    "        \n",
    "        accuracy, precision, recall, f1 = get_mean_score(np.array(y_test), y_pred1, Y.columns)\n",
    "        tuned_accuracy, tuned_precision, tuned_recall, tuned_f1 = get_mean_score(np.array(y_test), y_pred2, Y.columns)\n",
    "\n",
    "        print(f\" {f'ACCURACY':^20} | model 1: {round(accuracy, 4)} | model 2: {round(tuned_accuracy, 4)} -> dif: {round(tuned_accuracy - accuracy, 4):>7}\")\n",
    "        print(f\" {f'PRECISION':^20} | model 1: {round(precision, 4)} | model 2: {round(tuned_precision, 4)} -> dif: {round(tuned_precision - precision, 4):>7}\")\n",
    "        print(f\" {f'RECALL':^20} | model 1: {round(recall, 4)} | model 2: {round(tuned_recall, 4)} -> dif: {round(tuned_recall - recall, 4):>7}\")\n",
    "        print(f\" {f'F1':^20} | model 1: {round(f1, 4)} | model 2: {round(tuned_f1, 4)} -> dif: {round(tuned_f1 - f1, 4):>7}\")\n",
    "           \n",
    "    else:\n",
    "        accuracy, precision, recall, f1 = get_mean_score(np.array(y_test), y_pred1, Y.columns)\n",
    "        tuned_accuracy, tuned_precision, tuned_recall, tuned_f1 = get_mean_score(np.array(y_test2), y_pred2, Y.columns)\n",
    "\n",
    "        print(f\" {f'ACCURACY':^20} | model 1: {round(accuracy, 4)} | model 2: {round(tuned_accuracy, 4)} -> dif: {round(tuned_accuracy - accuracy, 4):>7}\")\n",
    "        print(f\" {f'PRECISION':^20} | model 1: {round(precision, 4)} | model 2: {round(tuned_precision, 4)} -> dif: {round(tuned_precision - precision, 4):>7}\")\n",
    "        print(f\" {f'RECALL':^20} | model 1: {round(recall, 4)} | model 2: {round(tuned_recall, 4)} -> dif: {round(tuned_recall - recall, 4):>7}\")\n",
    "        print(f\" {f'F1':^20} | model 1: {round(f1, 4)} | model 2: {round(tuned_f1, 4)} -> dif: {round(tuned_f1 - f1, 4):>7}\")\n",
    "        "
   ]
  },
  {
   "cell_type": "code",
   "execution_count": 2,
   "metadata": {},
   "outputs": [],
   "source": [
    "# load data from database\n",
    "engine = create_engine('sqlite:///teste.db')\n",
    "df = pd.read_sql_table('message', con=engine)\n",
    "\n",
    "X = df['message']\n",
    "Y = df.drop(columns=['id','message','original','genre'], axis=1)\n",
    "for column in Y.columns:\n",
    "    Y[column] = pd.to_numeric(Y[column])\n"
   ]
  },
  {
   "cell_type": "markdown",
   "metadata": {},
   "source": [
    "### 2. Write a tokenization function to process your text data"
   ]
  },
  {
   "cell_type": "code",
   "execution_count": 3,
   "metadata": {},
   "outputs": [],
   "source": [
    "def tokenize(text):\n",
    "    \n",
    "    text = re.sub(r\"[^a-zA-Z0-9]\", \" \", text.lower())\n",
    "    \n",
    "    url_regex = 'http[s]?://(?:[a-zA-Z]|[0-9]|[$-_@.&+]|[!*\\(\\),]|(?:%[0-9a-fA-F][0-9a-fA-F]))+'\n",
    "    detected_urls = re.findall(url_regex, text)\n",
    "    for url in detected_urls:\n",
    "        text = text.replace(url, \"urlplaceholder\")\n",
    "\n",
    "    lemmatizer = WordNetLemmatizer()\n",
    "    \n",
    "    tokens = [lemmatizer.lemmatize(word) for word in word_tokenize(text) if word not in stop_words]\n",
    "    \n",
    "    clean_tokens = []\n",
    "    for tok in tokens:\n",
    "        clean_tok = lemmatizer.lemmatize(tok).lower().strip()\n",
    "        clean_tokens.append(clean_tok)\n",
    "\n",
    "    return clean_tokens"
   ]
  },
  {
   "cell_type": "markdown",
   "metadata": {},
   "source": [
    "### 3. Build a machine learning pipeline\n",
    "This machine pipeline should take in the `message` column as input and output classification results on the other 36 categories in the dataset. You may find the [MultiOutputClassifier](http://scikit-learn.org/stable/modules/generated/sklearn.multioutput.MultiOutputClassifier.html) helpful for predicting multiple target variables."
   ]
  },
  {
   "cell_type": "code",
   "execution_count": 4,
   "metadata": {},
   "outputs": [],
   "source": [
    "# Create pipeline with Classifier\n",
    "moc = MultiOutputClassifier(RandomForestClassifier())\n",
    "\n",
    "pipeline = Pipeline([\n",
    "    ('vect', CountVectorizer(tokenizer=tokenize)),\n",
    "    ('tfidf', TfidfTransformer()),\n",
    "    ('clf', moc)\n",
    "    ])\n",
    "\n",
    "stop_words= stopwords.words('english')"
   ]
  },
  {
   "cell_type": "markdown",
   "metadata": {},
   "source": [
    "### 4. Train pipeline\n",
    "- Split data into train and test sets\n",
    "- Train pipeline"
   ]
  },
  {
   "cell_type": "code",
   "execution_count": 5,
   "metadata": {},
   "outputs": [
    {
     "data": {
      "text/plain": [
       "Pipeline(memory=None,\n",
       "     steps=[('vect', CountVectorizer(analyzer='word', binary=False, decode_error='strict',\n",
       "        dtype=<class 'numpy.int64'>, encoding='utf-8', input='content',\n",
       "        lowercase=True, max_df=1.0, max_features=None, min_df=1,\n",
       "        ngram_range=(1, 1), preprocessor=None, stop_words=None,\n",
       "        strip...oob_score=False, random_state=None, verbose=0,\n",
       "            warm_start=False),\n",
       "           n_jobs=1))])"
      ]
     },
     "execution_count": 5,
     "metadata": {},
     "output_type": "execute_result"
    }
   ],
   "source": [
    "X_train, X_test, y_train, y_test = train_test_split(X, Y, random_state=42)\n",
    "\n",
    "pipeline.fit(X_train.as_matrix(), y_train.as_matrix())"
   ]
  },
  {
   "cell_type": "code",
   "execution_count": 6,
   "metadata": {},
   "outputs": [],
   "source": [
    "y_pred = pipeline.predict(X_test)"
   ]
  },
  {
   "cell_type": "markdown",
   "metadata": {},
   "source": [
    "### 5. Test your model\n",
    "Report the f1 score, precision and recall for each output category of the dataset. You can do this by iterating through the columns and calling sklearn's `classification_report` on each."
   ]
  },
  {
   "cell_type": "code",
   "execution_count": 7,
   "metadata": {},
   "outputs": [
    {
     "name": "stdout",
     "output_type": "stream",
     "text": [
      "________________________________________________________________________________\n",
      "\n",
      "\n",
      "                               RELATED                                \n",
      "\n",
      "             precision    recall  f1-score   support\n",
      "\n",
      "          0       0.63      0.46      0.53      1553\n",
      "          1       0.84      0.92      0.88      5001\n",
      "\n",
      "avg / total       0.79      0.81      0.80      6554\n",
      "\n",
      "________________________________________________________________________________\n",
      "\n",
      "\n",
      "                               REQUEST                                \n",
      "\n",
      "             precision    recall  f1-score   support\n",
      "\n",
      "          0       0.90      0.98      0.93      5461\n",
      "          1       0.80      0.43      0.56      1093\n",
      "\n",
      "avg / total       0.88      0.89      0.87      6554\n",
      "\n",
      "________________________________________________________________________________\n",
      "\n",
      "\n",
      "                                OFFER                                 \n",
      "\n",
      "             precision    recall  f1-score   support\n",
      "\n",
      "          0       1.00      1.00      1.00      6522\n",
      "          1       0.00      0.00      0.00        32\n",
      "\n",
      "avg / total       0.99      1.00      0.99      6554\n",
      "\n",
      "________________________________________________________________________________\n",
      "\n",
      "\n",
      "                             AID_RELATED                              \n",
      "\n",
      "             precision    recall  f1-score   support\n",
      "\n",
      "          0       0.75      0.86      0.80      3854\n",
      "          1       0.74      0.59      0.66      2700\n",
      "\n",
      "avg / total       0.75      0.75      0.74      6554\n",
      "\n",
      "________________________________________________________________________________\n",
      "\n",
      "\n",
      "                             MEDICAL_HELP                             \n",
      "\n",
      "             precision    recall  f1-score   support\n",
      "\n",
      "          0       0.93      0.99      0.96      6022\n",
      "          1       0.61      0.09      0.16       532\n",
      "\n",
      "avg / total       0.90      0.92      0.89      6554\n",
      "\n",
      "________________________________________________________________________________\n",
      "\n",
      "\n",
      "                           MEDICAL_PRODUCTS                           \n",
      "\n",
      "             precision    recall  f1-score   support\n",
      "\n",
      "          0       0.95      1.00      0.97      6209\n",
      "          1       0.68      0.07      0.13       345\n",
      "\n",
      "avg / total       0.94      0.95      0.93      6554\n",
      "\n",
      "________________________________________________________________________________\n",
      "\n",
      "\n",
      "                          SEARCH_AND_RESCUE                           \n",
      "\n",
      "             precision    recall  f1-score   support\n",
      "\n",
      "          0       0.98      1.00      0.99      6389\n",
      "          1       0.52      0.08      0.15       165\n",
      "\n",
      "avg / total       0.97      0.97      0.97      6554\n",
      "\n",
      "________________________________________________________________________________\n",
      "\n",
      "\n",
      "                               SECURITY                               \n",
      "\n",
      "             precision    recall  f1-score   support\n",
      "\n",
      "          0       0.98      1.00      0.99      6427\n",
      "          1       0.25      0.01      0.02       127\n",
      "\n",
      "avg / total       0.97      0.98      0.97      6554\n",
      "\n",
      "________________________________________________________________________________\n",
      "\n",
      "\n",
      "                               MILITARY                               \n",
      "\n",
      "             precision    recall  f1-score   support\n",
      "\n",
      "          0       0.97      1.00      0.98      6357\n",
      "          1       0.48      0.07      0.12       197\n",
      "\n",
      "avg / total       0.96      0.97      0.96      6554\n",
      "\n",
      "________________________________________________________________________________\n",
      "\n",
      "\n",
      "                             CHILD_ALONE                              \n",
      "\n",
      "             precision    recall  f1-score   support\n",
      "\n",
      "          0       1.00      1.00      1.00      6554\n",
      "\n",
      "avg / total       1.00      1.00      1.00      6554\n",
      "\n",
      "________________________________________________________________________________\n",
      "\n",
      "\n",
      "                                WATER                                 \n",
      "\n",
      "             precision    recall  f1-score   support\n",
      "\n",
      "          0       0.96      0.99      0.98      6146\n",
      "          1       0.82      0.34      0.48       408\n",
      "\n",
      "avg / total       0.95      0.95      0.95      6554\n",
      "\n",
      "________________________________________________________________________________\n",
      "\n",
      "\n",
      "                                 FOOD                                 \n",
      "\n",
      "             precision    recall  f1-score   support\n",
      "\n",
      "          0       0.94      0.99      0.97      5831\n",
      "          1       0.86      0.51      0.64       723\n",
      "\n",
      "avg / total       0.93      0.94      0.93      6554\n",
      "\n",
      "________________________________________________________________________________\n",
      "\n",
      "\n",
      "                               SHELTER                                \n",
      "\n",
      "             precision    recall  f1-score   support\n",
      "\n",
      "          0       0.93      0.99      0.96      5964\n",
      "          1       0.84      0.27      0.41       590\n",
      "\n",
      "avg / total       0.92      0.93      0.91      6554\n",
      "\n",
      "________________________________________________________________________________\n",
      "\n",
      "\n",
      "                               CLOTHING                               \n",
      "\n",
      "             precision    recall  f1-score   support\n",
      "\n",
      "          0       0.99      1.00      0.99      6459\n",
      "          1       0.79      0.12      0.20        95\n",
      "\n",
      "avg / total       0.98      0.99      0.98      6554\n",
      "\n",
      "________________________________________________________________________________\n",
      "\n",
      "\n",
      "                                MONEY                                 \n",
      "\n",
      "             precision    recall  f1-score   support\n",
      "\n",
      "          0       0.98      1.00      0.99      6416\n",
      "          1       0.61      0.10      0.17       138\n",
      "\n",
      "avg / total       0.97      0.98      0.97      6554\n",
      "\n",
      "________________________________________________________________________________\n",
      "\n",
      "\n",
      "                            MISSING_PEOPLE                            \n",
      "\n",
      "             precision    recall  f1-score   support\n",
      "\n",
      "          0       0.99      1.00      0.99      6480\n",
      "          1       1.00      0.01      0.03        74\n",
      "\n",
      "avg / total       0.99      0.99      0.98      6554\n",
      "\n",
      "________________________________________________________________________________\n",
      "\n",
      "\n",
      "                               REFUGEES                               \n",
      "\n",
      "             precision    recall  f1-score   support\n",
      "\n",
      "          0       0.97      1.00      0.98      6331\n",
      "          1       0.20      0.00      0.01       223\n",
      "\n",
      "avg / total       0.94      0.97      0.95      6554\n",
      "\n",
      "________________________________________________________________________________\n",
      "\n",
      "\n",
      "                                DEATH                                 \n",
      "\n",
      "             precision    recall  f1-score   support\n",
      "\n",
      "          0       0.96      1.00      0.98      6253\n",
      "          1       0.86      0.16      0.27       301\n",
      "\n",
      "avg / total       0.96      0.96      0.95      6554\n",
      "\n",
      "________________________________________________________________________________\n",
      "\n",
      "\n",
      "                              OTHER_AID                               \n",
      "\n",
      "             precision    recall  f1-score   support\n",
      "\n",
      "          0       0.87      1.00      0.93      5689\n",
      "          1       0.53      0.03      0.06       865\n",
      "\n",
      "avg / total       0.83      0.87      0.81      6554\n",
      "\n",
      "________________________________________________________________________________\n",
      "\n",
      "\n",
      "                        INFRASTRUCTURE_RELATED                        \n",
      "\n",
      "             precision    recall  f1-score   support\n",
      "\n",
      "          0       0.94      1.00      0.97      6144\n",
      "          1       0.10      0.00      0.00       410\n",
      "\n",
      "avg / total       0.89      0.94      0.91      6554\n",
      "\n",
      "________________________________________________________________________________\n",
      "\n",
      "\n",
      "                              TRANSPORT                               \n",
      "\n",
      "             precision    recall  f1-score   support\n",
      "\n",
      "          0       0.96      1.00      0.98      6266\n",
      "          1       0.70      0.08      0.14       288\n",
      "\n",
      "avg / total       0.95      0.96      0.94      6554\n",
      "\n",
      "________________________________________________________________________________\n",
      "\n",
      "\n",
      "                              BUILDINGS                               \n",
      "\n",
      "             precision    recall  f1-score   support\n",
      "\n",
      "          0       0.95      1.00      0.98      6223\n",
      "          1       0.71      0.11      0.19       331\n",
      "\n",
      "avg / total       0.94      0.95      0.94      6554\n",
      "\n",
      "________________________________________________________________________________\n",
      "\n",
      "\n",
      "                             ELECTRICITY                              \n",
      "\n",
      "             precision    recall  f1-score   support\n",
      "\n",
      "          0       0.98      1.00      0.99      6410\n",
      "          1       0.67      0.06      0.10       144\n",
      "\n",
      "avg / total       0.97      0.98      0.97      6554\n",
      "\n",
      "________________________________________________________________________________\n",
      "\n",
      "\n",
      "                                TOOLS                                 \n",
      "\n",
      "             precision    recall  f1-score   support\n",
      "\n",
      "          0       0.99      1.00      1.00      6508\n",
      "          1       0.00      0.00      0.00        46\n",
      "\n",
      "avg / total       0.99      0.99      0.99      6554\n",
      "\n",
      "________________________________________________________________________________\n",
      "\n",
      "\n",
      "                              HOSPITALS                               \n",
      "\n",
      "             precision    recall  f1-score   support\n",
      "\n",
      "          0       0.99      1.00      1.00      6494\n",
      "          1       0.00      0.00      0.00        60\n",
      "\n",
      "avg / total       0.98      0.99      0.99      6554\n",
      "\n",
      "________________________________________________________________________________\n",
      "\n",
      "\n",
      "                                SHOPS                                 \n",
      "\n",
      "             precision    recall  f1-score   support\n",
      "\n",
      "          0       1.00      1.00      1.00      6525\n",
      "          1       0.00      0.00      0.00        29\n",
      "\n",
      "avg / total       0.99      1.00      0.99      6554\n",
      "\n",
      "________________________________________________________________________________\n",
      "\n",
      "\n",
      "                             AID_CENTERS                              \n",
      "\n",
      "             precision    recall  f1-score   support\n",
      "\n",
      "          0       0.99      1.00      0.99      6477\n",
      "          1       0.00      0.00      0.00        77\n",
      "\n",
      "avg / total       0.98      0.99      0.98      6554\n"
     ]
    },
    {
     "name": "stdout",
     "output_type": "stream",
     "text": [
      "\n",
      "________________________________________________________________________________\n",
      "\n",
      "\n",
      "                         OTHER_INFRASTRUCTURE                         \n",
      "\n",
      "             precision    recall  f1-score   support\n",
      "\n",
      "          0       0.96      1.00      0.98      6277\n",
      "          1       0.20      0.00      0.01       277\n",
      "\n",
      "avg / total       0.93      0.96      0.94      6554\n",
      "\n",
      "________________________________________________________________________________\n",
      "\n",
      "\n",
      "                           WEATHER_RELATED                            \n",
      "\n",
      "             precision    recall  f1-score   support\n",
      "\n",
      "          0       0.87      0.95      0.91      4738\n",
      "          1       0.83      0.64      0.72      1816\n",
      "\n",
      "avg / total       0.86      0.86      0.86      6554\n",
      "\n",
      "________________________________________________________________________________\n",
      "\n",
      "\n",
      "                                FLOODS                                \n",
      "\n",
      "             precision    recall  f1-score   support\n",
      "\n",
      "          0       0.94      1.00      0.97      6008\n",
      "          1       0.91      0.35      0.51       546\n",
      "\n",
      "avg / total       0.94      0.94      0.93      6554\n",
      "\n",
      "________________________________________________________________________________\n",
      "\n",
      "\n",
      "                                STORM                                 \n",
      "\n",
      "             precision    recall  f1-score   support\n",
      "\n",
      "          0       0.94      0.99      0.96      5958\n",
      "          1       0.73      0.41      0.52       596\n",
      "\n",
      "avg / total       0.92      0.93      0.92      6554\n",
      "\n",
      "________________________________________________________________________________\n",
      "\n",
      "\n",
      "                                 FIRE                                 \n",
      "\n",
      "             precision    recall  f1-score   support\n",
      "\n",
      "          0       0.99      1.00      0.99      6487\n",
      "          1       0.50      0.03      0.06        67\n",
      "\n",
      "avg / total       0.99      0.99      0.99      6554\n",
      "\n",
      "________________________________________________________________________________\n",
      "\n",
      "\n",
      "                              EARTHQUAKE                              \n",
      "\n",
      "             precision    recall  f1-score   support\n",
      "\n",
      "          0       0.97      0.99      0.98      5924\n",
      "          1       0.90      0.72      0.80       630\n",
      "\n",
      "avg / total       0.96      0.97      0.96      6554\n",
      "\n",
      "________________________________________________________________________________\n",
      "\n",
      "\n",
      "                                 COLD                                 \n",
      "\n",
      "             precision    recall  f1-score   support\n",
      "\n",
      "          0       0.98      1.00      0.99      6432\n",
      "          1       0.75      0.12      0.21       122\n",
      "\n",
      "avg / total       0.98      0.98      0.98      6554\n",
      "\n",
      "________________________________________________________________________________\n",
      "\n",
      "\n",
      "                            OTHER_WEATHER                             \n",
      "\n",
      "             precision    recall  f1-score   support\n",
      "\n",
      "          0       0.95      1.00      0.98      6235\n",
      "          1       0.53      0.03      0.05       319\n",
      "\n",
      "avg / total       0.93      0.95      0.93      6554\n",
      "\n",
      "________________________________________________________________________________\n",
      "\n",
      "\n",
      "                            DIRECT_REPORT                             \n",
      "\n",
      "             precision    recall  f1-score   support\n",
      "\n",
      "          0       0.86      0.97      0.91      5289\n",
      "          1       0.72      0.32      0.44      1265\n",
      "\n",
      "avg / total       0.83      0.84      0.82      6554\n",
      "\n"
     ]
    }
   ],
   "source": [
    "for i, col in enumerate(Y.columns): \n",
    "    print(\"_\"*80)\n",
    "    print('\\n')\n",
    "    print(f'{col.upper():^70}\\n')\n",
    "    print(classification_report(list(y_test.values[:, i]), list(y_pred[:, i])))"
   ]
  },
  {
   "cell_type": "markdown",
   "metadata": {},
   "source": [
    "### 6. Improve your model\n",
    "Use grid search to find better parameters. "
   ]
  },
  {
   "cell_type": "code",
   "execution_count": 8,
   "metadata": {},
   "outputs": [
    {
     "data": {
      "text/plain": [
       "{'memory': None,\n",
       " 'steps': [('vect',\n",
       "   CountVectorizer(analyzer='word', binary=False, decode_error='strict',\n",
       "           dtype=<class 'numpy.int64'>, encoding='utf-8', input='content',\n",
       "           lowercase=True, max_df=1.0, max_features=None, min_df=1,\n",
       "           ngram_range=(1, 1), preprocessor=None, stop_words=None,\n",
       "           strip_accents=None, token_pattern='(?u)\\\\b\\\\w\\\\w+\\\\b',\n",
       "           tokenizer=<function tokenize at 0x7f2f3ddcd950>, vocabulary=None)),\n",
       "  ('tfidf',\n",
       "   TfidfTransformer(norm='l2', smooth_idf=True, sublinear_tf=False, use_idf=True)),\n",
       "  ('clf',\n",
       "   MultiOutputClassifier(estimator=RandomForestClassifier(bootstrap=True, class_weight=None, criterion='gini',\n",
       "               max_depth=None, max_features='auto', max_leaf_nodes=None,\n",
       "               min_impurity_decrease=0.0, min_impurity_split=None,\n",
       "               min_samples_leaf=1, min_samples_split=2,\n",
       "               min_weight_fraction_leaf=0.0, n_estimators=10, n_jobs=1,\n",
       "               oob_score=False, random_state=None, verbose=0,\n",
       "               warm_start=False),\n",
       "              n_jobs=1))],\n",
       " 'vect': CountVectorizer(analyzer='word', binary=False, decode_error='strict',\n",
       "         dtype=<class 'numpy.int64'>, encoding='utf-8', input='content',\n",
       "         lowercase=True, max_df=1.0, max_features=None, min_df=1,\n",
       "         ngram_range=(1, 1), preprocessor=None, stop_words=None,\n",
       "         strip_accents=None, token_pattern='(?u)\\\\b\\\\w\\\\w+\\\\b',\n",
       "         tokenizer=<function tokenize at 0x7f2f3ddcd950>, vocabulary=None),\n",
       " 'tfidf': TfidfTransformer(norm='l2', smooth_idf=True, sublinear_tf=False, use_idf=True),\n",
       " 'clf': MultiOutputClassifier(estimator=RandomForestClassifier(bootstrap=True, class_weight=None, criterion='gini',\n",
       "             max_depth=None, max_features='auto', max_leaf_nodes=None,\n",
       "             min_impurity_decrease=0.0, min_impurity_split=None,\n",
       "             min_samples_leaf=1, min_samples_split=2,\n",
       "             min_weight_fraction_leaf=0.0, n_estimators=10, n_jobs=1,\n",
       "             oob_score=False, random_state=None, verbose=0,\n",
       "             warm_start=False),\n",
       "            n_jobs=1),\n",
       " 'vect__analyzer': 'word',\n",
       " 'vect__binary': False,\n",
       " 'vect__decode_error': 'strict',\n",
       " 'vect__dtype': numpy.int64,\n",
       " 'vect__encoding': 'utf-8',\n",
       " 'vect__input': 'content',\n",
       " 'vect__lowercase': True,\n",
       " 'vect__max_df': 1.0,\n",
       " 'vect__max_features': None,\n",
       " 'vect__min_df': 1,\n",
       " 'vect__ngram_range': (1, 1),\n",
       " 'vect__preprocessor': None,\n",
       " 'vect__stop_words': None,\n",
       " 'vect__strip_accents': None,\n",
       " 'vect__token_pattern': '(?u)\\\\b\\\\w\\\\w+\\\\b',\n",
       " 'vect__tokenizer': <function __main__.tokenize(text)>,\n",
       " 'vect__vocabulary': None,\n",
       " 'tfidf__norm': 'l2',\n",
       " 'tfidf__smooth_idf': True,\n",
       " 'tfidf__sublinear_tf': False,\n",
       " 'tfidf__use_idf': True,\n",
       " 'clf__estimator__bootstrap': True,\n",
       " 'clf__estimator__class_weight': None,\n",
       " 'clf__estimator__criterion': 'gini',\n",
       " 'clf__estimator__max_depth': None,\n",
       " 'clf__estimator__max_features': 'auto',\n",
       " 'clf__estimator__max_leaf_nodes': None,\n",
       " 'clf__estimator__min_impurity_decrease': 0.0,\n",
       " 'clf__estimator__min_impurity_split': None,\n",
       " 'clf__estimator__min_samples_leaf': 1,\n",
       " 'clf__estimator__min_samples_split': 2,\n",
       " 'clf__estimator__min_weight_fraction_leaf': 0.0,\n",
       " 'clf__estimator__n_estimators': 10,\n",
       " 'clf__estimator__n_jobs': 1,\n",
       " 'clf__estimator__oob_score': False,\n",
       " 'clf__estimator__random_state': None,\n",
       " 'clf__estimator__verbose': 0,\n",
       " 'clf__estimator__warm_start': False,\n",
       " 'clf__estimator': RandomForestClassifier(bootstrap=True, class_weight=None, criterion='gini',\n",
       "             max_depth=None, max_features='auto', max_leaf_nodes=None,\n",
       "             min_impurity_decrease=0.0, min_impurity_split=None,\n",
       "             min_samples_leaf=1, min_samples_split=2,\n",
       "             min_weight_fraction_leaf=0.0, n_estimators=10, n_jobs=1,\n",
       "             oob_score=False, random_state=None, verbose=0,\n",
       "             warm_start=False),\n",
       " 'clf__n_jobs': 1}"
      ]
     },
     "execution_count": 8,
     "metadata": {},
     "output_type": "execute_result"
    }
   ],
   "source": [
    "pipeline.get_params()"
   ]
  },
  {
   "cell_type": "code",
   "execution_count": 9,
   "metadata": {},
   "outputs": [],
   "source": [
    "# Define performance metric for use in grid search scoring object\n",
    "def performance_metric(y_true, y_pred):\n",
    "    \"\"\"Calculate median F1 score for all of the output classifiers\n",
    "    \n",
    "    Args:\n",
    "    y_true: array. Array containing actual labels.\n",
    "    y_pred: array. Array containing predicted labels.\n",
    "        \n",
    "    Returns:\n",
    "    score: float. Median F1 score for all of the output classifiers\n",
    "    \"\"\"\n",
    "    f1_list = []\n",
    "    for i in range(np.shape(y_pred)[1]):\n",
    "        f1 = f1_score(np.array(y_true)[:, i], y_pred[:, i])\n",
    "        f1_list.append(f1)\n",
    "        \n",
    "    score = np.median(f1_list)\n",
    "    return score\n",
    "\n",
    "\n",
    "def get_results(actual, predicted, col_names):\n",
    "    \"\"\"Calculate evaluation metrics for ML model\n",
    "    \n",
    "    Args:\n",
    "    actual: array. Array containing actual labels.\n",
    "    predicted: array. Array containing predicted labels.\n",
    "    col_names: list of strings. List containing names for each of the predicted fields.\n",
    "       \n",
    "    Returns:\n",
    "    metrics_df: dataframe. Dataframe containing the accuracy, precision, recall \n",
    "    and f1 score for a given set of actual and predicted labels.\n",
    "    \"\"\"\n",
    "    columns = {}\n",
    "    \n",
    "    # Calculate evaluation metrics for each set of labels\n",
    "    for i, col in enumerate(col_names):\n",
    "        \n",
    "        accuracy = accuracy_score(actual[:, i], predicted[:, i])\n",
    "        precision = precision_score(actual[:, i], predicted[:, i])\n",
    "        recall = recall_score(actual[:, i], predicted[:, i])\n",
    "        f1 = f1_score(actual[:, i], predicted[:, i])\n",
    "        \n",
    "        columns[col] = {\"accuracy\": accuracy,\"precision\":precision,\"recall\":recall,\"f1\":f1}\n",
    "      \n",
    "    return columns\n",
    "\n",
    "def get_mean_score(real, predicted, col_names):\n",
    "    \n",
    "    results = get_results(real, predicted, col_names)\n",
    "    \n",
    "    accuracy = []\n",
    "    precision = []\n",
    "    recall = []\n",
    "    f1 = []\n",
    "\n",
    "    for key in results.keys():\n",
    "        accuracy.append(results[key]['accuracy'])\n",
    "        precision.append(results[key]['precision'])\n",
    "        recall.append(results[key]['recall'])\n",
    "        f1.append(results[key]['f1'])\n",
    "        \n",
    "    accuracy = np.mean(accuracy)\n",
    "    precision = np.mean(precision)\n",
    "    recall = np.mean(recall)\n",
    "    f1 = np.mean(f1)\n",
    "    \n",
    "    return accuracy, precision, recall, f1\n",
    "        \n",
    "    "
   ]
  },
  {
   "cell_type": "code",
   "execution_count": 10,
   "metadata": {},
   "outputs": [],
   "source": [
    "parameters = {'clf__estimator__min_samples_leaf':[1, 2, 5, 10],\n",
    "              'clf__estimator__min_samples_split': [2, 5, 10, 15, 100]}"
   ]
  },
  {
   "cell_type": "code",
   "execution_count": 11,
   "metadata": {},
   "outputs": [],
   "source": [
    "scorer = make_scorer(performance_metric)"
   ]
  },
  {
   "cell_type": "code",
   "execution_count": 12,
   "metadata": {},
   "outputs": [
    {
     "name": "stdout",
     "output_type": "stream",
     "text": [
      "Fitting 3 folds for each of 20 candidates, totalling 60 fits\n",
      "[CV] clf__estimator__min_samples_leaf=1, clf__estimator__min_samples_split=2 \n",
      "[CV]  clf__estimator__min_samples_leaf=1, clf__estimator__min_samples_split=2, score=0.11436049801924164, total=  48.3s\n",
      "[CV] clf__estimator__min_samples_leaf=1, clf__estimator__min_samples_split=2 \n"
     ]
    },
    {
     "name": "stderr",
     "output_type": "stream",
     "text": [
      "[Parallel(n_jobs=1)]: Done   1 out of   1 | elapsed:   58.8s remaining:    0.0s\n"
     ]
    },
    {
     "name": "stdout",
     "output_type": "stream",
     "text": [
      "[CV]  clf__estimator__min_samples_leaf=1, clf__estimator__min_samples_split=2, score=0.09196753339580985, total=  48.4s\n",
      "[CV] clf__estimator__min_samples_leaf=1, clf__estimator__min_samples_split=2 \n"
     ]
    },
    {
     "name": "stderr",
     "output_type": "stream",
     "text": [
      "[Parallel(n_jobs=1)]: Done   2 out of   2 | elapsed:  2.0min remaining:    0.0s\n"
     ]
    },
    {
     "name": "stdout",
     "output_type": "stream",
     "text": [
      "[CV]  clf__estimator__min_samples_leaf=1, clf__estimator__min_samples_split=2, score=0.13263995891114536, total=  48.8s\n",
      "[CV] clf__estimator__min_samples_leaf=1, clf__estimator__min_samples_split=5 \n"
     ]
    },
    {
     "name": "stderr",
     "output_type": "stream",
     "text": [
      "[Parallel(n_jobs=1)]: Done   3 out of   3 | elapsed:  3.0min remaining:    0.0s\n"
     ]
    },
    {
     "name": "stdout",
     "output_type": "stream",
     "text": [
      "[CV]  clf__estimator__min_samples_leaf=1, clf__estimator__min_samples_split=5, score=0.14835799548930084, total=  41.2s\n",
      "[CV] clf__estimator__min_samples_leaf=1, clf__estimator__min_samples_split=5 \n"
     ]
    },
    {
     "name": "stderr",
     "output_type": "stream",
     "text": [
      "[Parallel(n_jobs=1)]: Done   4 out of   4 | elapsed:  3.8min remaining:    0.0s\n"
     ]
    },
    {
     "name": "stdout",
     "output_type": "stream",
     "text": [
      "[CV]  clf__estimator__min_samples_leaf=1, clf__estimator__min_samples_split=5, score=0.1568735801559526, total=  41.5s\n",
      "[CV] clf__estimator__min_samples_leaf=1, clf__estimator__min_samples_split=5 \n"
     ]
    },
    {
     "name": "stderr",
     "output_type": "stream",
     "text": [
      "[Parallel(n_jobs=1)]: Done   5 out of   5 | elapsed:  4.7min remaining:    0.0s\n"
     ]
    },
    {
     "name": "stdout",
     "output_type": "stream",
     "text": [
      "[CV]  clf__estimator__min_samples_leaf=1, clf__estimator__min_samples_split=5, score=0.16394778681844296, total=  41.3s\n",
      "[CV] clf__estimator__min_samples_leaf=1, clf__estimator__min_samples_split=10 \n"
     ]
    },
    {
     "name": "stderr",
     "output_type": "stream",
     "text": [
      "[Parallel(n_jobs=1)]: Done   6 out of   6 | elapsed:  5.5min remaining:    0.0s\n"
     ]
    },
    {
     "name": "stdout",
     "output_type": "stream",
     "text": [
      "[CV]  clf__estimator__min_samples_leaf=1, clf__estimator__min_samples_split=10, score=0.12649226616837952, total=  38.7s\n",
      "[CV] clf__estimator__min_samples_leaf=1, clf__estimator__min_samples_split=10 \n"
     ]
    },
    {
     "name": "stderr",
     "output_type": "stream",
     "text": [
      "[Parallel(n_jobs=1)]: Done   7 out of   7 | elapsed:  6.4min remaining:    0.0s\n"
     ]
    },
    {
     "name": "stdout",
     "output_type": "stream",
     "text": [
      "[CV]  clf__estimator__min_samples_leaf=1, clf__estimator__min_samples_split=10, score=0.1550458937783052, total=  38.7s\n",
      "[CV] clf__estimator__min_samples_leaf=1, clf__estimator__min_samples_split=10 \n"
     ]
    },
    {
     "name": "stderr",
     "output_type": "stream",
     "text": [
      "[Parallel(n_jobs=1)]: Done   8 out of   8 | elapsed:  7.2min remaining:    0.0s\n"
     ]
    },
    {
     "name": "stdout",
     "output_type": "stream",
     "text": [
      "[CV]  clf__estimator__min_samples_leaf=1, clf__estimator__min_samples_split=10, score=0.15106275303643724, total=  38.5s\n",
      "[CV] clf__estimator__min_samples_leaf=1, clf__estimator__min_samples_split=15 \n"
     ]
    },
    {
     "name": "stderr",
     "output_type": "stream",
     "text": [
      "[Parallel(n_jobs=1)]: Done   9 out of   9 | elapsed:  8.0min remaining:    0.0s\n"
     ]
    },
    {
     "name": "stdout",
     "output_type": "stream",
     "text": [
      "[CV]  clf__estimator__min_samples_leaf=1, clf__estimator__min_samples_split=15, score=0.1119362920544023, total=  36.9s\n",
      "[CV] clf__estimator__min_samples_leaf=1, clf__estimator__min_samples_split=15 \n",
      "[CV]  clf__estimator__min_samples_leaf=1, clf__estimator__min_samples_split=15, score=0.13313769563769565, total=  37.4s\n",
      "[CV] clf__estimator__min_samples_leaf=1, clf__estimator__min_samples_split=15 \n",
      "[CV]  clf__estimator__min_samples_leaf=1, clf__estimator__min_samples_split=15, score=0.1432010929109575, total=  37.4s\n",
      "[CV] clf__estimator__min_samples_leaf=1, clf__estimator__min_samples_split=100 \n",
      "[CV]  clf__estimator__min_samples_leaf=1, clf__estimator__min_samples_split=100, score=0.09717868338557992, total=  32.8s\n",
      "[CV] clf__estimator__min_samples_leaf=1, clf__estimator__min_samples_split=100 \n",
      "[CV]  clf__estimator__min_samples_leaf=1, clf__estimator__min_samples_split=100, score=0.09321543208437283, total=  32.5s\n",
      "[CV] clf__estimator__min_samples_leaf=1, clf__estimator__min_samples_split=100 \n",
      "[CV]  clf__estimator__min_samples_leaf=1, clf__estimator__min_samples_split=100, score=0.09144212937711356, total=  32.8s\n",
      "[CV] clf__estimator__min_samples_leaf=2, clf__estimator__min_samples_split=2 \n",
      "[CV]  clf__estimator__min_samples_leaf=2, clf__estimator__min_samples_split=2, score=0.044225453671433726, total=  31.2s\n",
      "[CV] clf__estimator__min_samples_leaf=2, clf__estimator__min_samples_split=2 \n",
      "[CV]  clf__estimator__min_samples_leaf=2, clf__estimator__min_samples_split=2, score=0.06796672475262157, total=  31.4s\n",
      "[CV] clf__estimator__min_samples_leaf=2, clf__estimator__min_samples_split=2 \n",
      "[CV]  clf__estimator__min_samples_leaf=2, clf__estimator__min_samples_split=2, score=0.057893061210811184, total=  31.0s\n",
      "[CV] clf__estimator__min_samples_leaf=2, clf__estimator__min_samples_split=5 \n",
      "[CV]  clf__estimator__min_samples_leaf=2, clf__estimator__min_samples_split=5, score=0.036904761904761905, total=  30.8s\n",
      "[CV] clf__estimator__min_samples_leaf=2, clf__estimator__min_samples_split=5 \n",
      "[CV]  clf__estimator__min_samples_leaf=2, clf__estimator__min_samples_split=5, score=0.06236053130929792, total=  30.8s\n",
      "[CV] clf__estimator__min_samples_leaf=2, clf__estimator__min_samples_split=5 \n",
      "[CV]  clf__estimator__min_samples_leaf=2, clf__estimator__min_samples_split=5, score=0.07437258790166101, total=  31.1s\n",
      "[CV] clf__estimator__min_samples_leaf=2, clf__estimator__min_samples_split=10 \n",
      "[CV]  clf__estimator__min_samples_leaf=2, clf__estimator__min_samples_split=10, score=0.03588109329421485, total=  29.9s\n",
      "[CV] clf__estimator__min_samples_leaf=2, clf__estimator__min_samples_split=10 \n",
      "[CV]  clf__estimator__min_samples_leaf=2, clf__estimator__min_samples_split=10, score=0.03725428027901078, total=  29.9s\n",
      "[CV] clf__estimator__min_samples_leaf=2, clf__estimator__min_samples_split=10 \n",
      "[CV]  clf__estimator__min_samples_leaf=2, clf__estimator__min_samples_split=10, score=0.052453597762522244, total=  29.9s\n",
      "[CV] clf__estimator__min_samples_leaf=2, clf__estimator__min_samples_split=15 \n",
      "[CV]  clf__estimator__min_samples_leaf=2, clf__estimator__min_samples_split=15, score=0.04374814668379954, total=  29.5s\n",
      "[CV] clf__estimator__min_samples_leaf=2, clf__estimator__min_samples_split=15 \n",
      "[CV]  clf__estimator__min_samples_leaf=2, clf__estimator__min_samples_split=15, score=0.057402017193528734, total=  29.7s\n",
      "[CV] clf__estimator__min_samples_leaf=2, clf__estimator__min_samples_split=15 \n",
      "[CV]  clf__estimator__min_samples_leaf=2, clf__estimator__min_samples_split=15, score=0.07465277777777779, total=  29.6s\n",
      "[CV] clf__estimator__min_samples_leaf=2, clf__estimator__min_samples_split=100 \n",
      "[CV]  clf__estimator__min_samples_leaf=2, clf__estimator__min_samples_split=100, score=0.04525207110445027, total=  29.3s\n",
      "[CV] clf__estimator__min_samples_leaf=2, clf__estimator__min_samples_split=100 \n",
      "[CV]  clf__estimator__min_samples_leaf=2, clf__estimator__min_samples_split=100, score=0.0478110599078341, total=  29.2s\n",
      "[CV] clf__estimator__min_samples_leaf=2, clf__estimator__min_samples_split=100 \n",
      "[CV]  clf__estimator__min_samples_leaf=2, clf__estimator__min_samples_split=100, score=0.05076628352490421, total=  29.3s\n",
      "[CV] clf__estimator__min_samples_leaf=5, clf__estimator__min_samples_split=2 \n",
      "[CV]  clf__estimator__min_samples_leaf=5, clf__estimator__min_samples_split=2, score=0.0, total=  25.9s\n",
      "[CV] clf__estimator__min_samples_leaf=5, clf__estimator__min_samples_split=2 \n",
      "[CV]  clf__estimator__min_samples_leaf=5, clf__estimator__min_samples_split=2, score=0.00905133837767472, total=  26.0s\n",
      "[CV] clf__estimator__min_samples_leaf=5, clf__estimator__min_samples_split=2 \n",
      "[CV]  clf__estimator__min_samples_leaf=5, clf__estimator__min_samples_split=2, score=0.0, total=  25.6s\n",
      "[CV] clf__estimator__min_samples_leaf=5, clf__estimator__min_samples_split=5 \n",
      "[CV]  clf__estimator__min_samples_leaf=5, clf__estimator__min_samples_split=5, score=0.0, total=  25.6s\n",
      "[CV] clf__estimator__min_samples_leaf=5, clf__estimator__min_samples_split=5 \n",
      "[CV]  clf__estimator__min_samples_leaf=5, clf__estimator__min_samples_split=5, score=0.0033670033670033673, total=  25.7s\n",
      "[CV] clf__estimator__min_samples_leaf=5, clf__estimator__min_samples_split=5 \n",
      "[CV]  clf__estimator__min_samples_leaf=5, clf__estimator__min_samples_split=5, score=0.01332492643968054, total=  26.0s\n",
      "[CV] clf__estimator__min_samples_leaf=5, clf__estimator__min_samples_split=10 \n",
      "[CV]  clf__estimator__min_samples_leaf=5, clf__estimator__min_samples_split=10, score=0.006313169031615634, total=  25.8s\n",
      "[CV] clf__estimator__min_samples_leaf=5, clf__estimator__min_samples_split=10 \n",
      "[CV]  clf__estimator__min_samples_leaf=5, clf__estimator__min_samples_split=10, score=0.01402210506256749, total=  25.8s\n",
      "[CV] clf__estimator__min_samples_leaf=5, clf__estimator__min_samples_split=10 \n",
      "[CV]  clf__estimator__min_samples_leaf=5, clf__estimator__min_samples_split=10, score=0.0029761904761904765, total=  25.6s\n",
      "[CV] clf__estimator__min_samples_leaf=5, clf__estimator__min_samples_split=15 \n",
      "[CV]  clf__estimator__min_samples_leaf=5, clf__estimator__min_samples_split=15, score=0.0, total=  25.5s\n",
      "[CV] clf__estimator__min_samples_leaf=5, clf__estimator__min_samples_split=15 \n",
      "[CV]  clf__estimator__min_samples_leaf=5, clf__estimator__min_samples_split=15, score=0.011534046064432806, total=  25.2s\n",
      "[CV] clf__estimator__min_samples_leaf=5, clf__estimator__min_samples_split=15 \n",
      "[CV]  clf__estimator__min_samples_leaf=5, clf__estimator__min_samples_split=15, score=0.010569200552282053, total=  25.3s\n",
      "[CV] clf__estimator__min_samples_leaf=5, clf__estimator__min_samples_split=100 \n",
      "[CV]  clf__estimator__min_samples_leaf=5, clf__estimator__min_samples_split=100, score=0.0022222222222222222, total=  24.8s\n",
      "[CV] clf__estimator__min_samples_leaf=5, clf__estimator__min_samples_split=100 \n",
      "[CV]  clf__estimator__min_samples_leaf=5, clf__estimator__min_samples_split=100, score=0.001182033096926714, total=  25.0s\n",
      "[CV] clf__estimator__min_samples_leaf=5, clf__estimator__min_samples_split=100 \n",
      "[CV]  clf__estimator__min_samples_leaf=5, clf__estimator__min_samples_split=100, score=0.003205128205128205, total=  24.8s\n",
      "[CV] clf__estimator__min_samples_leaf=10, clf__estimator__min_samples_split=2 \n",
      "[CV]  clf__estimator__min_samples_leaf=10, clf__estimator__min_samples_split=2, score=0.0, total=  21.6s\n",
      "[CV] clf__estimator__min_samples_leaf=10, clf__estimator__min_samples_split=2 \n",
      "[CV]  clf__estimator__min_samples_leaf=10, clf__estimator__min_samples_split=2, score=0.0, total=  21.9s\n",
      "[CV] clf__estimator__min_samples_leaf=10, clf__estimator__min_samples_split=2 \n",
      "[CV]  clf__estimator__min_samples_leaf=10, clf__estimator__min_samples_split=2, score=0.0, total=  21.7s\n",
      "[CV] clf__estimator__min_samples_leaf=10, clf__estimator__min_samples_split=5 \n",
      "[CV]  clf__estimator__min_samples_leaf=10, clf__estimator__min_samples_split=5, score=0.0, total=  21.6s\n",
      "[CV] clf__estimator__min_samples_leaf=10, clf__estimator__min_samples_split=5 \n",
      "[CV]  clf__estimator__min_samples_leaf=10, clf__estimator__min_samples_split=5, score=0.0, total=  22.0s\n",
      "[CV] clf__estimator__min_samples_leaf=10, clf__estimator__min_samples_split=5 \n",
      "[CV]  clf__estimator__min_samples_leaf=10, clf__estimator__min_samples_split=5, score=0.0, total=  21.7s\n",
      "[CV] clf__estimator__min_samples_leaf=10, clf__estimator__min_samples_split=10 \n"
     ]
    },
    {
     "name": "stdout",
     "output_type": "stream",
     "text": [
      "[CV]  clf__estimator__min_samples_leaf=10, clf__estimator__min_samples_split=10, score=0.0, total=  21.8s\n",
      "[CV] clf__estimator__min_samples_leaf=10, clf__estimator__min_samples_split=10 \n",
      "[CV]  clf__estimator__min_samples_leaf=10, clf__estimator__min_samples_split=10, score=0.0, total=  21.7s\n",
      "[CV] clf__estimator__min_samples_leaf=10, clf__estimator__min_samples_split=10 \n",
      "[CV]  clf__estimator__min_samples_leaf=10, clf__estimator__min_samples_split=10, score=0.0, total=  21.7s\n",
      "[CV] clf__estimator__min_samples_leaf=10, clf__estimator__min_samples_split=15 \n",
      "[CV]  clf__estimator__min_samples_leaf=10, clf__estimator__min_samples_split=15, score=0.0, total=  21.8s\n",
      "[CV] clf__estimator__min_samples_leaf=10, clf__estimator__min_samples_split=15 \n",
      "[CV]  clf__estimator__min_samples_leaf=10, clf__estimator__min_samples_split=15, score=0.0, total=  21.5s\n",
      "[CV] clf__estimator__min_samples_leaf=10, clf__estimator__min_samples_split=15 \n",
      "[CV]  clf__estimator__min_samples_leaf=10, clf__estimator__min_samples_split=15, score=0.0, total=  21.5s\n",
      "[CV] clf__estimator__min_samples_leaf=10, clf__estimator__min_samples_split=100 \n",
      "[CV]  clf__estimator__min_samples_leaf=10, clf__estimator__min_samples_split=100, score=0.0, total=  21.2s\n",
      "[CV] clf__estimator__min_samples_leaf=10, clf__estimator__min_samples_split=100 \n",
      "[CV]  clf__estimator__min_samples_leaf=10, clf__estimator__min_samples_split=100, score=0.0, total=  21.3s\n",
      "[CV] clf__estimator__min_samples_leaf=10, clf__estimator__min_samples_split=100 \n",
      "[CV]  clf__estimator__min_samples_leaf=10, clf__estimator__min_samples_split=100, score=0.0, total=  21.3s\n"
     ]
    },
    {
     "name": "stderr",
     "output_type": "stream",
     "text": [
      "[Parallel(n_jobs=1)]: Done  60 out of  60 | elapsed: 38.9min finished\n"
     ]
    },
    {
     "name": "stdout",
     "output_type": "stream",
     "text": [
      "CPU times: user 39min 50s, sys: 492 ms, total: 39min 50s\n",
      "Wall time: 40min 1s\n"
     ]
    }
   ],
   "source": [
    "%%time\n",
    "cv = GridSearchCV(pipeline, param_grid = parameters, scoring = scorer, verbose = 10)\n",
    "\n",
    "# Find best parameters\n",
    "np.random.seed(81)\n",
    "tuned_model = cv.fit(X_train.values, y_train)"
   ]
  },
  {
   "cell_type": "code",
   "execution_count": 13,
   "metadata": {},
   "outputs": [
    {
     "data": {
      "text/plain": [
       "0.15639273657495792"
      ]
     },
     "execution_count": 13,
     "metadata": {},
     "output_type": "execute_result"
    }
   ],
   "source": [
    "# Best mean test score\n",
    "np.max(tuned_model.cv_results_['mean_test_score'])"
   ]
  },
  {
   "cell_type": "code",
   "execution_count": 14,
   "metadata": {},
   "outputs": [
    {
     "data": {
      "text/plain": [
       "{'clf__estimator__min_samples_leaf': 1, 'clf__estimator__min_samples_split': 5}"
      ]
     },
     "execution_count": 14,
     "metadata": {},
     "output_type": "execute_result"
    }
   ],
   "source": [
    "# Parameters for best mean test score\n",
    "tuned_model.best_params_"
   ]
  },
  {
   "cell_type": "markdown",
   "metadata": {},
   "source": [
    "### 7. Test your model\n",
    "Show the accuracy, precision, and recall of the tuned model.  \n",
    "\n",
    "Since this project focuses on code quality, process, and  pipelines, there is no minimum performance metric needed to pass. However, make sure to fine tune your models for accuracy, precision and recall to make your project stand out - especially for your portfolio!"
   ]
  },
  {
   "cell_type": "code",
   "execution_count": 16,
   "metadata": {},
   "outputs": [],
   "source": [
    "# Calculate evaluation metrics for test set\n",
    "tuned_y_pred = tuned_model.predict(X_test)"
   ]
  },
  {
   "cell_type": "markdown",
   "metadata": {},
   "source": [
    "#### 7.1 Show mean results"
   ]
  },
  {
   "cell_type": "code",
   "execution_count": 17,
   "metadata": {},
   "outputs": [
    {
     "name": "stdout",
     "output_type": "stream",
     "text": [
      "       ACCURACY       | default: 0.9452 tuned: 0.9463 dif:  0.0011\n",
      "      PRECISION       | default: 0.5462 tuned: 0.5365 dif: -0.0097\n",
      "        RECALL        | default: 0.1855 tuned: 0.1999 dif:  0.0144\n",
      "          F1          | default: 0.2417 tuned: 0.2515 dif:  0.0099\n"
     ]
    }
   ],
   "source": [
    "accuracy, precision, recall, f1 = get_mean_score(np.array(y_test), y_pred, Y.columns)\n",
    "tuned_accuracy, tuned_precision, tuned_recall, tuned_f1 = get_mean_score(np.array(y_test), tuned_y_pred, Y.columns)\n",
    "\n",
    "print(f\" {f'ACCURACY':^20} | default: {round(accuracy, 4)} tuned: {round(tuned_accuracy, 4)} dif: {round(tuned_accuracy - accuracy, 4):>7}\")\n",
    "print(f\" {f'PRECISION':^20} | default: {round(precision, 4)} tuned: {round(tuned_precision, 4)} dif: {round(tuned_precision - precision, 4):>7}\")\n",
    "print(f\" {f'RECALL':^20} | default: {round(recall, 4)} tuned: {round(tuned_recall, 4)} dif: {round(tuned_recall - recall, 4):>7}\")\n",
    "print(f\" {f'F1':^20} | default: {round(f1, 4)} tuned: {round(tuned_f1, 4)} dif: {round(tuned_f1 - f1, 4):>7}\")\n",
    "#print(accuracy, precision, recall, f1)"
   ]
  },
  {
   "cell_type": "markdown",
   "metadata": {},
   "source": [
    "### 8. Try improving your model further. Here are a few ideas:\n",
    "* try other machine learning algorithms\n",
    "* add other features besides the TF-IDF"
   ]
  },
  {
   "cell_type": "markdown",
   "metadata": {},
   "source": [
    "### 8.1 Changing Random Forest to Adaptive Boosting (AdaBoost)"
   ]
  },
  {
   "cell_type": "code",
   "execution_count": 18,
   "metadata": {},
   "outputs": [],
   "source": [
    "# Create pipeline with Classifier\n",
    "moc2 = MultiOutputClassifier(AdaBoostClassifier())\n",
    "\n",
    "pipeline_ada = Pipeline([\n",
    "    ('vect', CountVectorizer(tokenizer=tokenize)),\n",
    "    ('tfidf', TfidfTransformer()),\n",
    "    ('clf', moc2)\n",
    "    ])"
   ]
  },
  {
   "cell_type": "code",
   "execution_count": 19,
   "metadata": {},
   "outputs": [
    {
     "data": {
      "text/plain": [
       "Pipeline(memory=None,\n",
       "     steps=[('vect', CountVectorizer(analyzer='word', binary=False, decode_error='strict',\n",
       "        dtype=<class 'numpy.int64'>, encoding='utf-8', input='content',\n",
       "        lowercase=True, max_df=1.0, max_features=None, min_df=1,\n",
       "        ngram_range=(1, 1), preprocessor=None, stop_words=None,\n",
       "        strip...mator=None,\n",
       "          learning_rate=1.0, n_estimators=50, random_state=None),\n",
       "           n_jobs=1))])"
      ]
     },
     "execution_count": 19,
     "metadata": {},
     "output_type": "execute_result"
    }
   ],
   "source": [
    "pipeline_ada.fit(X_train.as_matrix(), y_train.as_matrix())"
   ]
  },
  {
   "cell_type": "code",
   "execution_count": 20,
   "metadata": {},
   "outputs": [],
   "source": [
    "ada_y_pred = pipeline_ada.predict(X_test)"
   ]
  },
  {
   "cell_type": "code",
   "execution_count": 22,
   "metadata": {},
   "outputs": [
    {
     "name": "stdout",
     "output_type": "stream",
     "text": [
      "       ACCURACY       | model 1: 0.9463 | model 2: 0.9478 -> dif:  0.0014\n",
      "      PRECISION       | model 1: 0.5365 | model 2: 0.5598 -> dif:  0.0233\n",
      "        RECALL        | model 1: 0.1999 | model 2: 0.3229 -> dif:   0.123\n",
      "          F1          | model 1: 0.2515 | model 2: 0.3945 -> dif:   0.143\n"
     ]
    }
   ],
   "source": [
    "show_model_dif(y_test, tuned_y_pred, ada_y_pred)"
   ]
  },
  {
   "cell_type": "markdown",
   "metadata": {},
   "source": [
    "Here we see some improvement in performance using Adaboost."
   ]
  },
  {
   "cell_type": "markdown",
   "metadata": {},
   "source": [
    "### 8.2 Handling imbalanced dataset:"
   ]
  },
  {
   "cell_type": "markdown",
   "metadata": {},
   "source": [
    "Functions for imbalanced dataset"
   ]
  },
  {
   "cell_type": "code",
   "execution_count": 23,
   "metadata": {},
   "outputs": [],
   "source": [
    "def synonym_tokenize(text):\n",
    "    \"\"\"\n",
    "    Takes a text and return tokenize synonyms \n",
    "    \"\"\"\n",
    "    t = Wordnet(v=True, n=True, p=0.7)\n",
    "    return [t.augment(word) for word in tokenize(text)]\n",
    "\n",
    "\n",
    "def oversample_nlp(dataframe):\n",
    "    \n",
    "    obj = dataframe.mean()\n",
    "    obj = obj.sort_values(ascending=False)\n",
    "\n",
    "    columns_perc = {}\n",
    "    \n",
    "    new_dataframe = pd.DataFrame(columns = dataframe.columns)\n",
    "\n",
    "    for key,value in obj.iteritems():\n",
    "        if key not in ['id','message','original','genre']:\n",
    "            columns_perc[key] = round(value*100, 1)\n",
    "   \n",
    "    for column in dataframe.columns:\n",
    "\n",
    "        if column not in ['id','message','original','genre']:\n",
    "            \n",
    "            if columns_perc[column] < 10:   \n",
    "    \n",
    "                # Selecting class slice\n",
    "                feature = column\n",
    "                mask = dataframe[feature] == 1\n",
    "                df_temp = dataframe.loc[mask].copy()\n",
    "\n",
    "                rows_target = int(dataframe.shape[0]*0.10) - df_temp.shape[0]\n",
    "\n",
    "                obj_temp = df_temp.mean()\n",
    "                obj_temp = obj_temp.sort_values(ascending=False)\n",
    "\n",
    "                # Filtering data\n",
    "                for key,value in obj_temp.iteritems():\n",
    "                    if key not in ['id','message','original','genre']:\n",
    "                        if (value*100) > 50:\n",
    "                            if value * 100 == 100:\n",
    "                                pass\n",
    "                            else:\n",
    "                                mask = df[key] == 0\n",
    "                                df_temp = df_temp.loc[mask]\n",
    "\n",
    "                df_temp.reset_index(inplace=True, drop=True)\n",
    "                new_data = pd.DataFrame(columns = df_temp.columns)\n",
    "                \n",
    "                if df_temp.shape[0] > 0:\n",
    "\n",
    "                    for _ in range(rows_target):\n",
    "                        row_number = randint(0, df_temp.shape[0] - 1)\n",
    "\n",
    "                        new_row = df_temp.iloc[row_number]\n",
    "                        transformed_msg = synonym_tokenize(new_row['message'])\n",
    "                        transformed_msg = ' '.join(transformed_msg)\n",
    "                        new_row[0:]['message'] = transformed_msg\n",
    "                        new_row[0:]['id'] = 'Artificial Data'\n",
    "                        new_data = new_data.append(new_row)\n",
    "\n",
    "                    print(f\"{column} ADDED: {new_data.shape[0]}\")\n",
    "\n",
    "                    new_dataframe = new_dataframe.append(new_data)\n",
    "    \n",
    "    dataframe = dataframe.append(new_dataframe)\n",
    "    \n",
    "    return dataframe"
   ]
  },
  {
   "cell_type": "markdown",
   "metadata": {},
   "source": [
    "#### 8.2.1 Oversampling with synonyms"
   ]
  },
  {
   "cell_type": "code",
   "execution_count": 24,
   "metadata": {},
   "outputs": [
    {
     "name": "stdout",
     "output_type": "stream",
     "text": [
      "offer ADDED: 2503\n",
      "medical_help ADDED: 537\n",
      "medical_products ADDED: 1308\n",
      "search_and_rescue ADDED: 1897\n",
      "security ADDED: 2150\n",
      "military ADDED: 1761\n",
      "water ADDED: 949\n",
      "shelter ADDED: 307\n",
      "clothing ADDED: 2216\n",
      "money ADDED: 2017\n",
      "missing_people ADDED: 2323\n",
      "refugees ADDED: 1746\n",
      "death ADDED: 1427\n",
      "infrastructure_related ADDED: 916\n",
      "transport ADDED: 1420\n",
      "buildings ADDED: 1288\n",
      "electricity ADDED: 2089\n",
      "tools ADDED: 2462\n",
      "hospitals ADDED: 2338\n",
      "shops ADDED: 2501\n",
      "aid_centers ADDED: 2312\n",
      "other_infrastructure ADDED: 1470\n",
      "floods ADDED: 466\n",
      "storm ADDED: 178\n",
      "fire ADDED: 2339\n",
      "earthquake ADDED: 166\n",
      "cold ADDED: 2091\n",
      "other_weather ADDED: 1245\n",
      "______________________________________________________________________\n",
      "Default Dataframe: 26215\n",
      "New Dataframe: 70637\n"
     ]
    }
   ],
   "source": [
    "df_new = oversample_nlp(df)\n",
    "print(\"_\"*70)\n",
    "print(f\"Default Dataframe: {df.shape[0]}\")\n",
    "print(f\"New Dataframe: {df_new.shape[0]}\")"
   ]
  },
  {
   "cell_type": "markdown",
   "metadata": {},
   "source": [
    "#### 8.2.2. Dropping duplicates"
   ]
  },
  {
   "cell_type": "code",
   "execution_count": 25,
   "metadata": {},
   "outputs": [
    {
     "data": {
      "text/plain": [
       "6127"
      ]
     },
     "execution_count": 25,
     "metadata": {},
     "output_type": "execute_result"
    }
   ],
   "source": [
    "# check number of duplicates\n",
    "df_new.duplicated().sum()"
   ]
  },
  {
   "cell_type": "code",
   "execution_count": 26,
   "metadata": {},
   "outputs": [],
   "source": [
    "# Drop Duplicates\n",
    "df_new.drop_duplicates(inplace=True)"
   ]
  },
  {
   "cell_type": "markdown",
   "metadata": {},
   "source": [
    "#### 8.2.3 Splitting dataset"
   ]
  },
  {
   "cell_type": "code",
   "execution_count": 27,
   "metadata": {},
   "outputs": [],
   "source": [
    "X_new = df_new['message']\n",
    "Y_new = df_new.drop(columns=['id','message','original','genre'], axis=1)\n",
    "for column in Y_new.columns:\n",
    "    Y_new[column] = pd.to_numeric(Y_new[column])"
   ]
  },
  {
   "cell_type": "code",
   "execution_count": 28,
   "metadata": {},
   "outputs": [],
   "source": [
    "X_train2, X_test2, y_train2, y_test2 = train_test_split(X_new, Y_new, random_state=42)"
   ]
  },
  {
   "cell_type": "markdown",
   "metadata": {},
   "source": [
    "#### 8.2.4 Creating model for the \"new\" dataset (RandomForest)"
   ]
  },
  {
   "cell_type": "code",
   "execution_count": 29,
   "metadata": {},
   "outputs": [],
   "source": [
    "# Create pipeline with Classifier\n",
    "moc = MultiOutputClassifier(RandomForestClassifier())\n",
    "\n",
    "pipeline2 = Pipeline([\n",
    "    ('vect', CountVectorizer(tokenizer=tokenize)),\n",
    "    ('tfidf', TfidfTransformer()),\n",
    "    ('clf', moc)\n",
    "    ])\n",
    "\n",
    "stop_words= stopwords.words('english')"
   ]
  },
  {
   "cell_type": "markdown",
   "metadata": {},
   "source": [
    "##### Fitting model"
   ]
  },
  {
   "cell_type": "code",
   "execution_count": 30,
   "metadata": {},
   "outputs": [
    {
     "name": "stdout",
     "output_type": "stream",
     "text": [
      "CPU times: user 4min 38s, sys: 230 ms, total: 4min 38s\n",
      "Wall time: 4min 39s\n"
     ]
    },
    {
     "data": {
      "text/plain": [
       "Pipeline(memory=None,\n",
       "     steps=[('vect', CountVectorizer(analyzer='word', binary=False, decode_error='strict',\n",
       "        dtype=<class 'numpy.int64'>, encoding='utf-8', input='content',\n",
       "        lowercase=True, max_df=1.0, max_features=None, min_df=1,\n",
       "        ngram_range=(1, 1), preprocessor=None, stop_words=None,\n",
       "        strip...oob_score=False, random_state=None, verbose=0,\n",
       "            warm_start=False),\n",
       "           n_jobs=1))])"
      ]
     },
     "execution_count": 30,
     "metadata": {},
     "output_type": "execute_result"
    }
   ],
   "source": [
    "%%time\n",
    "pipeline2.fit(X_train2.values, y_train2.values)"
   ]
  },
  {
   "cell_type": "markdown",
   "metadata": {},
   "source": [
    "#### Comparing Models"
   ]
  },
  {
   "cell_type": "markdown",
   "metadata": {},
   "source": [
    "Original Dataset with AdaBoost X Improved Dataset with Random Forest"
   ]
  },
  {
   "cell_type": "code",
   "execution_count": null,
   "metadata": {},
   "outputs": [],
   "source": [
    "new_y_pred = pipeline2.predict(X_test2)"
   ]
  },
  {
   "cell_type": "code",
   "execution_count": 32,
   "metadata": {},
   "outputs": [
    {
     "name": "stdout",
     "output_type": "stream",
     "text": [
      "       ACCURACY       | model 1: 0.9478 | model 2: 0.9736 -> dif:  0.0259\n",
      "      PRECISION       | model 1: 0.5598 | model 2: 0.9308 -> dif:  0.3711\n",
      "        RECALL        | model 1: 0.3229 | model 2: 0.7529 -> dif:    0.43\n",
      "          F1          | model 1: 0.3945 | model 2: 0.8286 -> dif:  0.4341\n"
     ]
    }
   ],
   "source": [
    "show_model_dif(y_test, ada_y_pred, new_y_pred, y_test2)"
   ]
  },
  {
   "cell_type": "markdown",
   "metadata": {},
   "source": [
    "#### 8.2.5. Tuning Model With New Dataset"
   ]
  },
  {
   "cell_type": "code",
   "execution_count": 33,
   "metadata": {},
   "outputs": [
    {
     "name": "stdout",
     "output_type": "stream",
     "text": [
      "Fitting 3 folds for each of 20 candidates, totalling 60 fits\n",
      "[CV] clf__estimator__min_samples_leaf=1, clf__estimator__min_samples_split=2 \n",
      "[CV]  clf__estimator__min_samples_leaf=1, clf__estimator__min_samples_split=2, score=0.8447584021079122, total= 2.9min\n",
      "[CV] clf__estimator__min_samples_leaf=1, clf__estimator__min_samples_split=2 \n"
     ]
    },
    {
     "name": "stderr",
     "output_type": "stream",
     "text": [
      "[Parallel(n_jobs=1)]: Done   1 out of   1 | elapsed:  3.4min remaining:    0.0s\n"
     ]
    },
    {
     "name": "stdout",
     "output_type": "stream",
     "text": [
      "[CV]  clf__estimator__min_samples_leaf=1, clf__estimator__min_samples_split=2, score=0.8391689022331978, total= 2.9min\n",
      "[CV] clf__estimator__min_samples_leaf=1, clf__estimator__min_samples_split=2 \n"
     ]
    },
    {
     "name": "stderr",
     "output_type": "stream",
     "text": [
      "[Parallel(n_jobs=1)]: Done   2 out of   2 | elapsed:  6.8min remaining:    0.0s\n"
     ]
    },
    {
     "name": "stdout",
     "output_type": "stream",
     "text": [
      "[CV]  clf__estimator__min_samples_leaf=1, clf__estimator__min_samples_split=2, score=0.8366932015989762, total= 2.9min\n",
      "[CV] clf__estimator__min_samples_leaf=1, clf__estimator__min_samples_split=5 \n"
     ]
    },
    {
     "name": "stderr",
     "output_type": "stream",
     "text": [
      "[Parallel(n_jobs=1)]: Done   3 out of   3 | elapsed: 10.2min remaining:    0.0s\n"
     ]
    },
    {
     "name": "stdout",
     "output_type": "stream",
     "text": [
      "[CV]  clf__estimator__min_samples_leaf=1, clf__estimator__min_samples_split=5, score=0.8453994052895919, total= 2.6min\n",
      "[CV] clf__estimator__min_samples_leaf=1, clf__estimator__min_samples_split=5 \n"
     ]
    },
    {
     "name": "stderr",
     "output_type": "stream",
     "text": [
      "[Parallel(n_jobs=1)]: Done   4 out of   4 | elapsed: 13.4min remaining:    0.0s\n"
     ]
    },
    {
     "name": "stdout",
     "output_type": "stream",
     "text": [
      "[CV]  clf__estimator__min_samples_leaf=1, clf__estimator__min_samples_split=5, score=0.825474397996729, total= 2.6min\n",
      "[CV] clf__estimator__min_samples_leaf=1, clf__estimator__min_samples_split=5 \n"
     ]
    },
    {
     "name": "stderr",
     "output_type": "stream",
     "text": [
      "[Parallel(n_jobs=1)]: Done   5 out of   5 | elapsed: 16.5min remaining:    0.0s\n"
     ]
    },
    {
     "name": "stdout",
     "output_type": "stream",
     "text": [
      "[CV]  clf__estimator__min_samples_leaf=1, clf__estimator__min_samples_split=5, score=0.8442947797997931, total= 2.6min\n",
      "[CV] clf__estimator__min_samples_leaf=1, clf__estimator__min_samples_split=10 \n"
     ]
    },
    {
     "name": "stderr",
     "output_type": "stream",
     "text": [
      "[Parallel(n_jobs=1)]: Done   6 out of   6 | elapsed: 19.6min remaining:    0.0s\n"
     ]
    },
    {
     "name": "stdout",
     "output_type": "stream",
     "text": [
      "[CV]  clf__estimator__min_samples_leaf=1, clf__estimator__min_samples_split=10, score=0.8412256078453615, total= 2.4min\n",
      "[CV] clf__estimator__min_samples_leaf=1, clf__estimator__min_samples_split=10 \n"
     ]
    },
    {
     "name": "stderr",
     "output_type": "stream",
     "text": [
      "[Parallel(n_jobs=1)]: Done   7 out of   7 | elapsed: 22.6min remaining:    0.0s\n"
     ]
    },
    {
     "name": "stdout",
     "output_type": "stream",
     "text": [
      "[CV]  clf__estimator__min_samples_leaf=1, clf__estimator__min_samples_split=10, score=0.828560442494312, total= 2.4min\n",
      "[CV] clf__estimator__min_samples_leaf=1, clf__estimator__min_samples_split=10 \n"
     ]
    },
    {
     "name": "stderr",
     "output_type": "stream",
     "text": [
      "[Parallel(n_jobs=1)]: Done   8 out of   8 | elapsed: 25.6min remaining:    0.0s\n"
     ]
    },
    {
     "name": "stdout",
     "output_type": "stream",
     "text": [
      "[CV]  clf__estimator__min_samples_leaf=1, clf__estimator__min_samples_split=10, score=0.8479751658418025, total= 2.4min\n",
      "[CV] clf__estimator__min_samples_leaf=1, clf__estimator__min_samples_split=15 \n"
     ]
    },
    {
     "name": "stderr",
     "output_type": "stream",
     "text": [
      "[Parallel(n_jobs=1)]: Done   9 out of   9 | elapsed: 28.6min remaining:    0.0s\n"
     ]
    },
    {
     "name": "stdout",
     "output_type": "stream",
     "text": [
      "[CV]  clf__estimator__min_samples_leaf=1, clf__estimator__min_samples_split=15, score=0.8254989645331886, total= 2.4min\n",
      "[CV] clf__estimator__min_samples_leaf=1, clf__estimator__min_samples_split=15 \n",
      "[CV]  clf__estimator__min_samples_leaf=1, clf__estimator__min_samples_split=15, score=0.8187358803362412, total= 2.4min\n",
      "[CV] clf__estimator__min_samples_leaf=1, clf__estimator__min_samples_split=15 \n",
      "[CV]  clf__estimator__min_samples_leaf=1, clf__estimator__min_samples_split=15, score=0.8318265448968103, total= 2.4min\n",
      "[CV] clf__estimator__min_samples_leaf=1, clf__estimator__min_samples_split=100 \n",
      "[CV]  clf__estimator__min_samples_leaf=1, clf__estimator__min_samples_split=100, score=0.7866689646490971, total= 2.2min\n",
      "[CV] clf__estimator__min_samples_leaf=1, clf__estimator__min_samples_split=100 \n",
      "[CV]  clf__estimator__min_samples_leaf=1, clf__estimator__min_samples_split=100, score=0.7828748926636417, total= 2.2min\n",
      "[CV] clf__estimator__min_samples_leaf=1, clf__estimator__min_samples_split=100 \n",
      "[CV]  clf__estimator__min_samples_leaf=1, clf__estimator__min_samples_split=100, score=0.7953077430370485, total= 2.2min\n",
      "[CV] clf__estimator__min_samples_leaf=2, clf__estimator__min_samples_split=2 \n",
      "[CV]  clf__estimator__min_samples_leaf=2, clf__estimator__min_samples_split=2, score=0.7472784118566462, total= 2.1min\n",
      "[CV] clf__estimator__min_samples_leaf=2, clf__estimator__min_samples_split=2 \n",
      "[CV]  clf__estimator__min_samples_leaf=2, clf__estimator__min_samples_split=2, score=0.7482969790066565, total= 2.1min\n",
      "[CV] clf__estimator__min_samples_leaf=2, clf__estimator__min_samples_split=2 \n",
      "[CV]  clf__estimator__min_samples_leaf=2, clf__estimator__min_samples_split=2, score=0.7450454375777944, total= 2.1min\n",
      "[CV] clf__estimator__min_samples_leaf=2, clf__estimator__min_samples_split=5 \n",
      "[CV]  clf__estimator__min_samples_leaf=2, clf__estimator__min_samples_split=5, score=0.7535254361440521, total= 2.1min\n",
      "[CV] clf__estimator__min_samples_leaf=2, clf__estimator__min_samples_split=5 \n",
      "[CV]  clf__estimator__min_samples_leaf=2, clf__estimator__min_samples_split=5, score=0.7480866611683117, total= 2.1min\n",
      "[CV] clf__estimator__min_samples_leaf=2, clf__estimator__min_samples_split=5 \n",
      "[CV]  clf__estimator__min_samples_leaf=2, clf__estimator__min_samples_split=5, score=0.7491670554076553, total= 2.1min\n",
      "[CV] clf__estimator__min_samples_leaf=2, clf__estimator__min_samples_split=10 \n",
      "[CV]  clf__estimator__min_samples_leaf=2, clf__estimator__min_samples_split=10, score=0.7532911659580785, total= 2.1min\n",
      "[CV] clf__estimator__min_samples_leaf=2, clf__estimator__min_samples_split=10 \n",
      "[CV]  clf__estimator__min_samples_leaf=2, clf__estimator__min_samples_split=10, score=0.7641439442222743, total= 2.1min\n",
      "[CV] clf__estimator__min_samples_leaf=2, clf__estimator__min_samples_split=10 \n",
      "[CV]  clf__estimator__min_samples_leaf=2, clf__estimator__min_samples_split=10, score=0.7396039199942551, total= 2.0min\n",
      "[CV] clf__estimator__min_samples_leaf=2, clf__estimator__min_samples_split=15 \n",
      "[CV]  clf__estimator__min_samples_leaf=2, clf__estimator__min_samples_split=15, score=0.7496155324001951, total= 2.0min\n",
      "[CV] clf__estimator__min_samples_leaf=2, clf__estimator__min_samples_split=15 \n",
      "[CV]  clf__estimator__min_samples_leaf=2, clf__estimator__min_samples_split=15, score=0.7349287639170718, total= 2.0min\n",
      "[CV] clf__estimator__min_samples_leaf=2, clf__estimator__min_samples_split=15 \n",
      "[CV]  clf__estimator__min_samples_leaf=2, clf__estimator__min_samples_split=15, score=0.7560889176227998, total= 2.1min\n",
      "[CV] clf__estimator__min_samples_leaf=2, clf__estimator__min_samples_split=100 \n",
      "[CV]  clf__estimator__min_samples_leaf=2, clf__estimator__min_samples_split=100, score=0.7387537328979532, total= 2.0min\n",
      "[CV] clf__estimator__min_samples_leaf=2, clf__estimator__min_samples_split=100 \n",
      "[CV]  clf__estimator__min_samples_leaf=2, clf__estimator__min_samples_split=100, score=0.733386121063828, total= 2.0min\n",
      "[CV] clf__estimator__min_samples_leaf=2, clf__estimator__min_samples_split=100 \n",
      "[CV]  clf__estimator__min_samples_leaf=2, clf__estimator__min_samples_split=100, score=0.7350987131561009, total= 2.0min\n",
      "[CV] clf__estimator__min_samples_leaf=5, clf__estimator__min_samples_split=2 \n",
      "[CV]  clf__estimator__min_samples_leaf=5, clf__estimator__min_samples_split=2, score=0.6385802570055259, total= 1.7min\n",
      "[CV] clf__estimator__min_samples_leaf=5, clf__estimator__min_samples_split=2 \n",
      "[CV]  clf__estimator__min_samples_leaf=5, clf__estimator__min_samples_split=2, score=0.6290069384644317, total= 1.7min\n",
      "[CV] clf__estimator__min_samples_leaf=5, clf__estimator__min_samples_split=2 \n",
      "[CV]  clf__estimator__min_samples_leaf=5, clf__estimator__min_samples_split=2, score=0.6136966981914718, total= 1.7min\n",
      "[CV] clf__estimator__min_samples_leaf=5, clf__estimator__min_samples_split=5 \n",
      "[CV]  clf__estimator__min_samples_leaf=5, clf__estimator__min_samples_split=5, score=0.602787474895706, total= 1.7min\n",
      "[CV] clf__estimator__min_samples_leaf=5, clf__estimator__min_samples_split=5 \n",
      "[CV]  clf__estimator__min_samples_leaf=5, clf__estimator__min_samples_split=5, score=0.6340619061680939, total= 1.7min\n",
      "[CV] clf__estimator__min_samples_leaf=5, clf__estimator__min_samples_split=5 \n",
      "[CV]  clf__estimator__min_samples_leaf=5, clf__estimator__min_samples_split=5, score=0.6297230829557708, total= 1.7min\n",
      "[CV] clf__estimator__min_samples_leaf=5, clf__estimator__min_samples_split=10 \n",
      "[CV]  clf__estimator__min_samples_leaf=5, clf__estimator__min_samples_split=10, score=0.6426841196441379, total= 1.7min\n",
      "[CV] clf__estimator__min_samples_leaf=5, clf__estimator__min_samples_split=10 \n",
      "[CV]  clf__estimator__min_samples_leaf=5, clf__estimator__min_samples_split=10, score=0.6235508458821342, total= 1.7min\n",
      "[CV] clf__estimator__min_samples_leaf=5, clf__estimator__min_samples_split=10 \n",
      "[CV]  clf__estimator__min_samples_leaf=5, clf__estimator__min_samples_split=10, score=0.6246486490463857, total= 1.7min\n",
      "[CV] clf__estimator__min_samples_leaf=5, clf__estimator__min_samples_split=15 \n",
      "[CV]  clf__estimator__min_samples_leaf=5, clf__estimator__min_samples_split=15, score=0.6125958192249812, total= 1.7min\n",
      "[CV] clf__estimator__min_samples_leaf=5, clf__estimator__min_samples_split=15 \n",
      "[CV]  clf__estimator__min_samples_leaf=5, clf__estimator__min_samples_split=15, score=0.6317746750850408, total= 1.7min\n",
      "[CV] clf__estimator__min_samples_leaf=5, clf__estimator__min_samples_split=15 \n",
      "[CV]  clf__estimator__min_samples_leaf=5, clf__estimator__min_samples_split=15, score=0.6284408307096849, total= 1.7min\n",
      "[CV] clf__estimator__min_samples_leaf=5, clf__estimator__min_samples_split=100 \n",
      "[CV]  clf__estimator__min_samples_leaf=5, clf__estimator__min_samples_split=100, score=0.6322291620168798, total= 1.7min\n",
      "[CV] clf__estimator__min_samples_leaf=5, clf__estimator__min_samples_split=100 \n",
      "[CV]  clf__estimator__min_samples_leaf=5, clf__estimator__min_samples_split=100, score=0.5907875115779755, total= 1.7min\n",
      "[CV] clf__estimator__min_samples_leaf=5, clf__estimator__min_samples_split=100 \n",
      "[CV]  clf__estimator__min_samples_leaf=5, clf__estimator__min_samples_split=100, score=0.6086609544507187, total= 1.7min\n",
      "[CV] clf__estimator__min_samples_leaf=10, clf__estimator__min_samples_split=2 \n",
      "[CV]  clf__estimator__min_samples_leaf=10, clf__estimator__min_samples_split=2, score=0.4129843697249183, total= 1.4min\n",
      "[CV] clf__estimator__min_samples_leaf=10, clf__estimator__min_samples_split=2 \n",
      "[CV]  clf__estimator__min_samples_leaf=10, clf__estimator__min_samples_split=2, score=0.43893062745277683, total= 1.4min\n",
      "[CV] clf__estimator__min_samples_leaf=10, clf__estimator__min_samples_split=2 \n",
      "[CV]  clf__estimator__min_samples_leaf=10, clf__estimator__min_samples_split=2, score=0.39813537771935303, total= 1.4min\n",
      "[CV] clf__estimator__min_samples_leaf=10, clf__estimator__min_samples_split=5 \n",
      "[CV]  clf__estimator__min_samples_leaf=10, clf__estimator__min_samples_split=5, score=0.4025061394297942, total= 1.4min\n",
      "[CV] clf__estimator__min_samples_leaf=10, clf__estimator__min_samples_split=5 \n",
      "[CV]  clf__estimator__min_samples_leaf=10, clf__estimator__min_samples_split=5, score=0.4054015636105188, total= 1.4min\n",
      "[CV] clf__estimator__min_samples_leaf=10, clf__estimator__min_samples_split=5 \n",
      "[CV]  clf__estimator__min_samples_leaf=10, clf__estimator__min_samples_split=5, score=0.4074076624046115, total= 1.4min\n",
      "[CV] clf__estimator__min_samples_leaf=10, clf__estimator__min_samples_split=10 \n"
     ]
    },
    {
     "name": "stdout",
     "output_type": "stream",
     "text": [
      "[CV]  clf__estimator__min_samples_leaf=10, clf__estimator__min_samples_split=10, score=0.4179901166558652, total= 1.4min\n",
      "[CV] clf__estimator__min_samples_leaf=10, clf__estimator__min_samples_split=10 \n",
      "[CV]  clf__estimator__min_samples_leaf=10, clf__estimator__min_samples_split=10, score=0.4142208889707708, total= 1.4min\n",
      "[CV] clf__estimator__min_samples_leaf=10, clf__estimator__min_samples_split=10 \n",
      "[CV]  clf__estimator__min_samples_leaf=10, clf__estimator__min_samples_split=10, score=0.4606865742210017, total= 1.4min\n",
      "[CV] clf__estimator__min_samples_leaf=10, clf__estimator__min_samples_split=15 \n",
      "[CV]  clf__estimator__min_samples_leaf=10, clf__estimator__min_samples_split=15, score=0.38865462678042906, total= 1.4min\n",
      "[CV] clf__estimator__min_samples_leaf=10, clf__estimator__min_samples_split=15 \n",
      "[CV]  clf__estimator__min_samples_leaf=10, clf__estimator__min_samples_split=15, score=0.4435947970043358, total= 1.4min\n",
      "[CV] clf__estimator__min_samples_leaf=10, clf__estimator__min_samples_split=15 \n",
      "[CV]  clf__estimator__min_samples_leaf=10, clf__estimator__min_samples_split=15, score=0.41135633256200765, total= 1.4min\n",
      "[CV] clf__estimator__min_samples_leaf=10, clf__estimator__min_samples_split=100 \n",
      "[CV]  clf__estimator__min_samples_leaf=10, clf__estimator__min_samples_split=100, score=0.3994752469547051, total= 1.4min\n",
      "[CV] clf__estimator__min_samples_leaf=10, clf__estimator__min_samples_split=100 \n",
      "[CV]  clf__estimator__min_samples_leaf=10, clf__estimator__min_samples_split=100, score=0.44187540141297366, total= 1.4min\n",
      "[CV] clf__estimator__min_samples_leaf=10, clf__estimator__min_samples_split=100 \n",
      "[CV]  clf__estimator__min_samples_leaf=10, clf__estimator__min_samples_split=100, score=0.44236464379228824, total= 1.4min\n"
     ]
    },
    {
     "name": "stderr",
     "output_type": "stream",
     "text": [
      "[Parallel(n_jobs=1)]: Done  60 out of  60 | elapsed: 144.5min finished\n"
     ]
    },
    {
     "name": "stdout",
     "output_type": "stream",
     "text": [
      "CPU times: user 2h 28min 32s, sys: 1.71 s, total: 2h 28min 34s\n",
      "Wall time: 2h 29min 6s\n"
     ]
    }
   ],
   "source": [
    "%%time\n",
    "cv = GridSearchCV(pipeline2, param_grid = parameters, scoring = scorer, verbose = 10)\n",
    "\n",
    "# Find best parameters\n",
    "np.random.seed(81)\n",
    "new_tuned_model = cv.fit(X_train2.values, y_train2)"
   ]
  },
  {
   "cell_type": "markdown",
   "metadata": {},
   "source": [
    "#### Comparing Models"
   ]
  },
  {
   "cell_type": "markdown",
   "metadata": {},
   "source": [
    "Improved Dataset with Random Forest X Improved Dataset with Tuned Random Forest"
   ]
  },
  {
   "cell_type": "code",
   "execution_count": 36,
   "metadata": {},
   "outputs": [],
   "source": [
    "# Calculate evaluation metrics for test set\n",
    "new_tuned_y_pred = new_tuned_model.predict(X_test2)"
   ]
  },
  {
   "cell_type": "code",
   "execution_count": 37,
   "metadata": {},
   "outputs": [
    {
     "name": "stdout",
     "output_type": "stream",
     "text": [
      "       ACCURACY       | model 1: 0.9736 | model 2: 0.974 -> dif:  0.0004\n",
      "      PRECISION       | model 1: 0.9308 | model 2: 0.9348 -> dif:   0.004\n",
      "        RECALL        | model 1: 0.7529 | model 2: 0.7529 -> dif:    -0.0\n",
      "          F1          | model 1: 0.8286 | model 2: 0.8299 -> dif:  0.0013\n"
     ]
    }
   ],
   "source": [
    "show_model_dif(y_test2, new_y_pred, new_tuned_y_pred , y_test2)"
   ]
  },
  {
   "cell_type": "markdown",
   "metadata": {},
   "source": [
    "#### 8.2.6 Creating model for the \"new\" dataset (AdaBoost)"
   ]
  },
  {
   "cell_type": "code",
   "execution_count": 38,
   "metadata": {},
   "outputs": [],
   "source": [
    "# Create pipeline with Classifier\n",
    "moc2 = MultiOutputClassifier(AdaBoostClassifier())\n",
    "\n",
    "pipeline_ada2 = Pipeline([\n",
    "    ('vect', CountVectorizer(tokenizer=tokenize)),\n",
    "    ('tfidf', TfidfTransformer()),\n",
    "    ('clf', moc2)\n",
    "    ])"
   ]
  },
  {
   "cell_type": "code",
   "execution_count": 39,
   "metadata": {},
   "outputs": [
    {
     "name": "stdout",
     "output_type": "stream",
     "text": [
      "CPU times: user 6min, sys: 76 ms, total: 6min 1s\n",
      "Wall time: 6min 1s\n"
     ]
    },
    {
     "data": {
      "text/plain": [
       "Pipeline(memory=None,\n",
       "     steps=[('vect', CountVectorizer(analyzer='word', binary=False, decode_error='strict',\n",
       "        dtype=<class 'numpy.int64'>, encoding='utf-8', input='content',\n",
       "        lowercase=True, max_df=1.0, max_features=None, min_df=1,\n",
       "        ngram_range=(1, 1), preprocessor=None, stop_words=None,\n",
       "        strip...mator=None,\n",
       "          learning_rate=1.0, n_estimators=50, random_state=None),\n",
       "           n_jobs=1))])"
      ]
     },
     "execution_count": 39,
     "metadata": {},
     "output_type": "execute_result"
    }
   ],
   "source": [
    "%%time\n",
    "pipeline_ada2.fit(X_train2.values, y_train2.values)"
   ]
  },
  {
   "cell_type": "code",
   "execution_count": 40,
   "metadata": {},
   "outputs": [],
   "source": [
    "new_ada_y_pred = pipeline_ada2.predict(X_test2)"
   ]
  },
  {
   "cell_type": "markdown",
   "metadata": {},
   "source": [
    "#### Comparing Models"
   ]
  },
  {
   "cell_type": "markdown",
   "metadata": {},
   "source": [
    "Improved Dataset with Tuned Random Forest X Improved Dataset with AdaBoost"
   ]
  },
  {
   "cell_type": "code",
   "execution_count": 41,
   "metadata": {},
   "outputs": [
    {
     "name": "stdout",
     "output_type": "stream",
     "text": [
      "       ACCURACY       | model 1: 0.974 | model 2: 0.9475 -> dif: -0.0265\n",
      "      PRECISION       | model 1: 0.9348 | model 2: 0.7979 -> dif: -0.1369\n",
      "        RECALL        | model 1: 0.7529 | model 2: 0.5415 -> dif: -0.2115\n",
      "          F1          | model 1: 0.8299 | model 2: 0.6347 -> dif: -0.1952\n"
     ]
    }
   ],
   "source": [
    "show_model_dif(y_test2, new_tuned_y_pred, new_ada_y_pred, y_test2)"
   ]
  },
  {
   "cell_type": "markdown",
   "metadata": {},
   "source": [
    "Improved Dataset with Random Forest X Improved Dataset with AdaBoost"
   ]
  },
  {
   "cell_type": "code",
   "execution_count": 42,
   "metadata": {},
   "outputs": [
    {
     "name": "stdout",
     "output_type": "stream",
     "text": [
      "       ACCURACY       | model 1: 0.9736 | model 2: 0.9475 -> dif: -0.0261\n",
      "      PRECISION       | model 1: 0.9308 | model 2: 0.7979 -> dif: -0.1329\n",
      "        RECALL        | model 1: 0.7529 | model 2: 0.5415 -> dif: -0.2115\n",
      "          F1          | model 1: 0.8286 | model 2: 0.6347 -> dif: -0.1939\n"
     ]
    }
   ],
   "source": [
    "show_model_dif(y_test2, new_y_pred, new_ada_y_pred, y_test2)"
   ]
  },
  {
   "cell_type": "markdown",
   "metadata": {},
   "source": [
    "### 9. Export your model as a pickle file"
   ]
  },
  {
   "cell_type": "code",
   "execution_count": 43,
   "metadata": {},
   "outputs": [],
   "source": [
    "import pickle\n",
    "with open('classifier.pkl', 'wb') as f:\n",
    "    pickle.dump(new_tuned_model, f)"
   ]
  },
  {
   "cell_type": "markdown",
   "metadata": {},
   "source": [
    "### 10. Use this notebook to complete `train.py`\n",
    "Use the template file attached in the Resources folder to write a script that runs the steps above to create a database and export a model based on a new dataset specified by the user."
   ]
  },
  {
   "cell_type": "code",
   "execution_count": null,
   "metadata": {},
   "outputs": [],
   "source": []
  }
 ],
 "metadata": {
  "kernelspec": {
   "display_name": "Python 3",
   "language": "python",
   "name": "python3"
  },
  "language_info": {
   "codemirror_mode": {
    "name": "ipython",
    "version": 3
   },
   "file_extension": ".py",
   "mimetype": "text/x-python",
   "name": "python",
   "nbconvert_exporter": "python",
   "pygments_lexer": "ipython3",
   "version": "3.6.3"
  }
 },
 "nbformat": 4,
 "nbformat_minor": 2
}
